{
 "cells": [
  {
   "cell_type": "markdown",
   "metadata": {},
   "source": [
    "# Using a Custom Elman RNN for MNIST Classification (row and sequential)\n",
    "\n",
    "In this notebook, we implement a **custom Elman RNN** to classify the **MNIST dataset** in both **row-wise** and **sequential** formats.\n",
    "\n",
    "### Overview of the Implementation:\n",
    "We define two key components:\n",
    "1. ````CustomRNNLayer```` – A single-layer recurrent neural network (Elman RNN).\n",
    "2. ````RNNBackbone```` – A full RNN-based model that stacks one or more `CustomRNNLayer` instances and adds a ```final linear layer``` to classify MNIST digits.\n"
   ]
  },
  {
   "cell_type": "code",
   "execution_count": 1,
   "metadata": {},
   "outputs": [],
   "source": [
    "import torch\n",
    "import torch.nn as nn\n",
    "import torch.optim as optim\n",
    "import torch.nn.functional as F\n",
    "import torchvision\n",
    "import torchvision.transforms as transforms\n",
    "import numpy as np\n",
    "import time\n",
    "from tqdm import tqdm\n",
    "import lightning as L\n",
    "\n",
    "import os \n",
    "os.environ['CUDA_VISIBLE_DEVICES'] = '1'\n",
    "import sys \n",
    "sys.path.append('../Flax')\n"
   ]
  },
  {
   "cell_type": "code",
   "execution_count": 2,
   "metadata": {},
   "outputs": [
    {
     "name": "stdout",
     "output_type": "stream",
     "text": [
      "CUDA is available\n",
      "NVIDIA GeForce RTX 4090\n",
      "cuda\n",
      "0\n",
      "1\n"
     ]
    }
   ],
   "source": [
    "if torch.cuda.is_available():\n",
    "    print(\"CUDA is available\")\n",
    "    print(torch.cuda.get_device_name())\n",
    "    device = torch.device(\"cuda\")\n",
    "    print(device)\n",
    "    print(torch.cuda.current_device())\n",
    "    print(torch.cuda.device_count())\n",
    "\n",
    "else:\n",
    "    print(\"CUDA is not available\")\n",
    "    device = torch.device(\"cpu\")\n",
    "\n",
    "# set random seed\n",
    "seed = 1\n",
    "np.random.seed(seed)\n",
    "torch.manual_seed(seed)\n",
    "torch.cuda.manual_seed(seed)\n",
    "torch.cuda.manual_seed_all(seed)\n",
    "\n"
   ]
  },
  {
   "cell_type": "code",
   "execution_count": 3,
   "metadata": {},
   "outputs": [],
   "source": [
    "from utils import create_mnist_classification_dataset"
   ]
  },
  {
   "cell_type": "code",
   "execution_count": 4,
   "metadata": {},
   "outputs": [
    {
     "name": "stdout",
     "output_type": "stream",
     "text": [
      "[*] Generating MNIST Classification Dataset...\n",
      "(128, 784, 1)\n",
      "(128,)\n"
     ]
    }
   ],
   "source": [
    "# Hyperparameters\n",
    "BATCH_SIZE = 128\n",
    "HIDDEN_SIZE = 256\n",
    "N_LAYERS = 3\n",
    "LEARNING_RATE = 0.001\n",
    "EPOCHS = 10\n",
    "DEVICE = 'cuda' if torch.cuda.is_available() else 'cpu'\n",
    "DATASET_VERSION = \"sequential\" # \"sequential\" or \"row\"\n",
    "\n",
    "# Create dataset\n",
    "train_loader, val_loader, test_loader, n_classes, seq_length, in_dim = create_mnist_classification_dataset(\n",
    "    bsz=BATCH_SIZE, version=DATASET_VERSION\n",
    ")\n",
    "\n",
    "# split the dataset into train and validation\n",
    "train_size = int(0.8 * len(train_loader.dataset))\n",
    "valid_size = len(train_loader.dataset) - train_size\n",
    "train_dataset, valid_dataset = torch.utils.data.random_split(\n",
    "    train_loader.dataset, [train_size, valid_size]\n",
    ")\n",
    "\n",
    "batch_images, batch_labels = next(iter(train_loader))\n",
    "print(batch_images.shape)\n",
    "print(batch_labels.shape)\n"
   ]
  },
  {
   "cell_type": "code",
   "execution_count": 5,
   "metadata": {},
   "outputs": [],
   "source": [
    "# Create model\n",
    "\n",
    "class LightningRNNBackbone(L.LightningModule):\n",
    "    def __init__(self, input_size, hidden_size, output_size, criterion, batch_size, n_layers=1):\n",
    "        '''\n",
    "        RNN backbone using 1 recurrent layer and 1 readout layer\n",
    "        '''\n",
    "        super().__init__()\n",
    "        self.batch_size = batch_size\n",
    "        self.criterion = criterion\n",
    "        self.hidden_size = hidden_size\n",
    "        self.output_size = output_size\n",
    "        self.input_size = input_size\n",
    "        self.n_layers = n_layers\n",
    "        self.rnn_layers = nn.ModuleList([nn.RNN(input_size, hidden_size, batch_first=True)])\n",
    "        for i in range(n_layers-1):\n",
    "            self.rnn_layers.append(nn.RNN(hidden_size, hidden_size, batch_first=True))        \n",
    "        # Initialize the hidden-to-hidden weights as identity matrix\n",
    "        for rnn_layer in self.rnn_layers:\n",
    "            for name, param in rnn_layer.named_parameters():\n",
    "                if 'weight_hh' in name:\n",
    "                    print(f'Initializing {name} with orthogonal initialization')\n",
    "                    nn.init.orthogonal_(param)\n",
    "                    # nn.init.eye_(param)\n",
    "                    # param.data = param.data * 0.9\n",
    "                if 'bias_hh' in name:\n",
    "                    print(f'Initializing {name} with zeros')\n",
    "                    nn.init.zeros_(param)\n",
    "                if 'weight_ih' in name:\n",
    "                    # nn.init.ones_(param)\n",
    "                    print(f'Initializing {name} with lecun_normal initialization')\n",
    "                    k = np.sqrt(1 / hidden_size)\n",
    "                    nn.init.normal_(param, mean=0, std=k)\n",
    "                    param.data = torch.clamp(param.data, -2*k, 2*k)\n",
    "                if 'bias_ih' in name:\n",
    "                    print(f'Initializing {name} with zeros')\n",
    "                    nn.init.zeros_(param)\n",
    "\n",
    "        self.W_out = nn.Linear(hidden_size, output_size, bias=False)\n",
    "        self.logger_kwargs = {\"batch_size\": batch_size, \"on_epoch\": True, \"on_step\":True, \"prog_bar\": True}\n",
    "\n",
    "    def forward(self, x):\n",
    "        # x shape: [seq_len, input_size] or [batch_size, seq_len, input_size]\n",
    "        \n",
    "        # state_hist, out_hist = self.rnn_layer(x)\n",
    "        for rnn_layer in self.rnn_layers:\n",
    "            x, _ = rnn_layer(x)\n",
    "        out_hist = self.W_out(x)\n",
    "        return x, out_hist\n",
    "    \n",
    "    def run_batch(self, batch):\n",
    "        # x shape: [seq_len, input_size] or [batch_size, seq_len, input_size]\n",
    "        x, y = batch\n",
    "        x = torch.tensor(x, dtype=torch.float32).to(self.device)\n",
    "        y = torch.tensor(y, dtype=torch.long).to(self.device)\n",
    "        # state_hist, out_hist = self.rnn_layer(x)\n",
    "        state_hist, _ = self(x)\n",
    "        out_hist = self.W_out(state_hist)\n",
    "        final_outputs = out_hist.mean(dim=1)\n",
    "        return self.criterion(final_outputs, y)\n",
    "\n",
    "    \n",
    "    def training_step(self, batch, batch_idx):\n",
    "\n",
    "        loss = self.run_batch(batch)\n",
    "        # Logging to TensorBoard (if installed) by default\n",
    "        # self.log(\"train_loss\", loss, prog_bar=True, on_epoch=True, batch_size=128)\n",
    "        self.log(\"train_loss\", loss, **self.logger_kwargs) \n",
    "\n",
    "        return loss\n",
    "    \n",
    "    def validation_step(self, batch, batch_idx):\n",
    "        # this is the validation loop\n",
    "        loss = self.run_batch(batch)\n",
    "        self.log(\"val_loss\", loss, **self.logger_kwargs) \n",
    "        return loss\n",
    "    \n",
    "    def test_step(self, batch, batch_idx):\n",
    "        # this is the test loop\n",
    "        loss = self.run_batch(batch)\n",
    "        self.log(\"test_loss\", loss, **self.logger_kwargs) \n",
    "        return loss\n",
    "\n",
    "    \n",
    "    def configure_optimizers(self):\n",
    "        optimizer = optim.Adam(self.parameters(), lr=1e-3)\n",
    "        return optimizer\n"
   ]
  },
  {
   "cell_type": "code",
   "execution_count": 6,
   "metadata": {},
   "outputs": [
    {
     "name": "stdout",
     "output_type": "stream",
     "text": [
      "Initializing weight_ih_l0 with lecun_normal initialization\n",
      "Initializing weight_hh_l0 with orthogonal initialization\n",
      "Initializing bias_ih_l0 with zeros\n",
      "Initializing bias_hh_l0 with zeros\n",
      "Initializing weight_ih_l0 with lecun_normal initialization\n",
      "Initializing weight_hh_l0 with orthogonal initialization\n",
      "Initializing bias_ih_l0 with zeros\n",
      "Initializing bias_hh_l0 with zeros\n",
      "Initializing weight_ih_l0 with lecun_normal initialization\n",
      "Initializing weight_hh_l0 with orthogonal initialization\n",
      "Initializing bias_ih_l0 with zeros\n",
      "Initializing bias_hh_l0 with zeros\n",
      "cuda:0\n",
      "cuda:0\n"
     ]
    }
   ],
   "source": [
    "model = LightningRNNBackbone(in_dim, HIDDEN_SIZE, n_classes, nn.CrossEntropyLoss(), BATCH_SIZE, n_layers=N_LAYERS)\n",
    "model.to(device)\n",
    "print(model.device)\n",
    "print(model.rnn_layers[0].weight_hh_l0.device)\n"
   ]
  },
  {
   "cell_type": "code",
   "execution_count": 7,
   "metadata": {},
   "outputs": [
    {
     "name": "stderr",
     "output_type": "stream",
     "text": [
      "GPU available: True (cuda), used: True\n",
      "TPU available: False, using: 0 TPU cores\n",
      "HPU available: False, using: 0 HPUs\n",
      "You are using a CUDA device ('NVIDIA GeForce RTX 4090') that has Tensor Cores. To properly utilize them, you should set `torch.set_float32_matmul_precision('medium' | 'high')` which will trade-off precision for performance. For more details, read https://pytorch.org/docs/stable/generated/torch.set_float32_matmul_precision.html#torch.set_float32_matmul_precision\n",
      "LOCAL_RANK: 0 - CUDA_VISIBLE_DEVICES: [1]\n"
     ]
    },
    {
     "name": "stderr",
     "output_type": "stream",
     "text": [
      "\n",
      "  | Name       | Type             | Params | Mode \n",
      "--------------------------------------------------------\n",
      "0 | criterion  | CrossEntropyLoss | 0      | train\n",
      "1 | rnn_layers | ModuleList       | 329 K  | train\n",
      "2 | W_out      | Linear           | 2.6 K  | train\n",
      "--------------------------------------------------------\n",
      "332 K     Trainable params\n",
      "0         Non-trainable params\n",
      "332 K     Total params\n",
      "1.328     Total estimated model params size (MB)\n",
      "6         Modules in train mode\n",
      "0         Modules in eval mode\n"
     ]
    },
    {
     "name": "stdout",
     "output_type": "stream",
     "text": [
      "                                                                           "
     ]
    },
    {
     "name": "stderr",
     "output_type": "stream",
     "text": [
      "/home/tristan/miniconda3/envs/.jax_conda_env_LearningJAX/lib/python3.12/site-packages/lightning/pytorch/trainer/connectors/data_connector.py:425: The 'val_dataloader' does not have many workers which may be a bottleneck. Consider increasing the value of the `num_workers` argument` to `num_workers=127` in the `DataLoader` to improve performance.\n",
      "/home/tristan/miniconda3/envs/.jax_conda_env_LearningJAX/lib/python3.12/site-packages/lightning/pytorch/trainer/connectors/data_connector.py:425: The 'train_dataloader' does not have many workers which may be a bottleneck. Consider increasing the value of the `num_workers` argument` to `num_workers=127` in the `DataLoader` to improve performance.\n"
     ]
    },
    {
     "name": "stdout",
     "output_type": "stream",
     "text": [
      "Training: |          | 0/? [00:00<?, ?it/s]\n",
      "Epoch 0: 100%|██████████| 390/390 [00:11<00:00, 33.21it/s, v_num=58, train_loss_step=2.280, val_loss_step=2.270, val_loss_epoch=2.270, train_loss_epoch=2.290]\n",
      "Epoch 1: 100%|██████████| 390/390 [00:11<00:00, 33.39it/s, v_num=58, train_loss_step=2.300, val_loss_step=2.300, val_loss_epoch=2.300, train_loss_epoch=2.350]\n",
      "Epoch 2: 100%|██████████| 390/390 [00:11<00:00, 33.31it/s, v_num=58, train_loss_step=2.300, val_loss_step=2.300, val_loss_epoch=2.300, train_loss_epoch=2.300]\n",
      "Epoch 3: 100%|██████████| 390/390 [00:11<00:00, 33.37it/s, v_num=58, train_loss_step=2.340, val_loss_step=2.310, val_loss_epoch=2.310, train_loss_epoch=2.340]\n",
      "Epoch 4: 100%|██████████| 390/390 [00:11<00:00, 33.19it/s, v_num=58, train_loss_step=2.310, val_loss_step=2.330, val_loss_epoch=2.310, train_loss_epoch=2.320]\n"
     ]
    },
    {
     "name": "stderr",
     "output_type": "stream",
     "text": [
      "`Trainer.fit` stopped: `max_epochs=5` reached.\n"
     ]
    }
   ],
   "source": [
    "# from lightning.pytorch.callbacks import RichProgressBar\n",
    "\n",
    "# # train the model (hint: here are some helpful Trainer arguments for rapid idea iteration)\n",
    "# callbacks = [RichProgressBar(leave=True)]\n",
    "from lightning.pytorch.loggers import TensorBoardLogger\n",
    "logger = TensorBoardLogger(\"logs/\", name=\"rnn_experiment\")\n",
    "\n",
    "from lightning.pytorch.callbacks import TQDMProgressBar\n",
    "callbacks = [TQDMProgressBar(leave=True)]\n",
    "trainer = L.Trainer(max_epochs=5, callbacks=callbacks,\n",
    "                    log_every_n_steps=50,\n",
    "                    # limit_train_batches=200, \n",
    "                    enable_progress_bar=True, logger=logger)\n",
    "trainer.fit(model=model, train_dataloaders=train_loader, val_dataloaders=val_loader)\n"
   ]
  },
  {
   "cell_type": "code",
   "execution_count": 8,
   "metadata": {},
   "outputs": [
    {
     "name": "stderr",
     "output_type": "stream",
     "text": [
      "LOCAL_RANK: 0 - CUDA_VISIBLE_DEVICES: [1]\n",
      "/home/tristan/miniconda3/envs/.jax_conda_env_LearningJAX/lib/python3.12/site-packages/lightning/pytorch/trainer/connectors/data_connector.py:425: The 'test_dataloader' does not have many workers which may be a bottleneck. Consider increasing the value of the `num_workers` argument` to `num_workers=127` in the `DataLoader` to improve performance.\n"
     ]
    },
    {
     "name": "stdout",
     "output_type": "stream",
     "text": [
      "Testing DataLoader 0: 100%|██████████| 78/78 [00:01<00:00, 55.93it/s]\n"
     ]
    },
    {
     "data": {
      "text/html": [
       "<pre style=\"white-space:pre;overflow-x:auto;line-height:normal;font-family:Menlo,'DejaVu Sans Mono',consolas,'Courier New',monospace\">┏━━━━━━━━━━━━━━━━━━━━━━━━━━━┳━━━━━━━━━━━━━━━━━━━━━━━━━━━┓\n",
       "┃<span style=\"font-weight: bold\">        Test metric        </span>┃<span style=\"font-weight: bold\">       DataLoader 0        </span>┃\n",
       "┡━━━━━━━━━━━━━━━━━━━━━━━━━━━╇━━━━━━━━━━━━━━━━━━━━━━━━━━━┩\n",
       "│<span style=\"color: #008080; text-decoration-color: #008080\">      test_loss_epoch      </span>│<span style=\"color: #800080; text-decoration-color: #800080\">     2.311549186706543     </span>│\n",
       "└───────────────────────────┴───────────────────────────┘\n",
       "</pre>\n"
      ],
      "text/plain": [
       "┏━━━━━━━━━━━━━━━━━━━━━━━━━━━┳━━━━━━━━━━━━━━━━━━━━━━━━━━━┓\n",
       "┃\u001b[1m \u001b[0m\u001b[1m       Test metric       \u001b[0m\u001b[1m \u001b[0m┃\u001b[1m \u001b[0m\u001b[1m      DataLoader 0       \u001b[0m\u001b[1m \u001b[0m┃\n",
       "┡━━━━━━━━━━━━━━━━━━━━━━━━━━━╇━━━━━━━━━━━━━━━━━━━━━━━━━━━┩\n",
       "│\u001b[36m \u001b[0m\u001b[36m     test_loss_epoch     \u001b[0m\u001b[36m \u001b[0m│\u001b[35m \u001b[0m\u001b[35m    2.311549186706543    \u001b[0m\u001b[35m \u001b[0m│\n",
       "└───────────────────────────┴───────────────────────────┘\n"
      ]
     },
     "metadata": {},
     "output_type": "display_data"
    },
    {
     "data": {
      "text/plain": [
       "[{'test_loss_epoch': 2.311549186706543}]"
      ]
     },
     "execution_count": 8,
     "metadata": {},
     "output_type": "execute_result"
    }
   ],
   "source": [
    "# test the model\n",
    "trainer.test(model, dataloaders=test_loader)\n"
   ]
  },
  {
   "cell_type": "code",
   "execution_count": 9,
   "metadata": {},
   "outputs": [
    {
     "name": "stdout",
     "output_type": "stream",
     "text": [
      "cuda:0\n",
      "cuda:0\n",
      "cpu\n",
      "Accuracy: 11.72%\n",
      "Predictions: tensor([1, 1, 1, 1, 1, 1, 1, 1, 1, 1, 1, 1, 1, 1, 1, 1, 1, 1, 1, 1, 1, 1, 1, 1,\n",
      "        1, 1, 1, 1, 1, 1, 1, 1, 1, 1, 1, 1, 1, 1, 1, 1, 1, 1, 1, 1, 1, 1, 1, 1,\n",
      "        1, 1, 1, 1, 1, 1, 1, 1, 1, 1, 1, 1, 1, 1, 1, 1, 1, 1, 1, 1, 1, 1, 1, 1,\n",
      "        1, 1, 1, 1, 1, 1, 1, 1, 1, 1, 1, 1, 1, 1, 1, 1, 1, 1, 1, 1, 1, 1, 1, 1,\n",
      "        1, 1, 1, 1, 1, 1, 1, 1, 1, 1, 1, 1, 1, 1, 1, 1, 1, 1, 1, 1, 1, 1, 1, 1,\n",
      "        1, 1, 1, 1, 1, 1, 1, 1], device='cuda:0')\n",
      "Ground Truth: tensor([7, 2, 1, 0, 4, 1, 4, 9, 5, 9, 0, 6, 9, 0, 1, 5, 9, 7, 3, 4, 9, 6, 6, 5,\n",
      "        4, 0, 7, 4, 0, 1, 3, 1, 3, 4, 7, 2, 7, 1, 2, 1, 1, 7, 4, 2, 3, 5, 1, 2,\n",
      "        4, 4, 6, 3, 5, 5, 6, 0, 4, 1, 9, 5, 7, 8, 9, 3, 7, 4, 6, 4, 3, 0, 7, 0,\n",
      "        2, 9, 1, 7, 3, 2, 9, 7, 7, 6, 2, 7, 8, 4, 7, 3, 6, 1, 3, 6, 9, 3, 1, 4,\n",
      "        1, 7, 6, 9, 6, 0, 5, 4, 9, 9, 2, 1, 9, 4, 8, 7, 3, 9, 7, 4, 4, 4, 9, 2,\n",
      "        5, 4, 7, 6, 7, 9, 0, 5], device='cuda:0')\n",
      "Loss: 2.3330276012420654\n"
     ]
    }
   ],
   "source": [
    "batch_images, batch_labels = next(iter(test_loader))\n",
    "batch_images = torch.tensor(batch_images, dtype=torch.float32).to(device)\n",
    "batch_labels = torch.tensor(batch_labels, dtype=torch.long).to(device)\n",
    "\n",
    "print(batch_images.device)\n",
    "print(batch_labels.device)\n",
    "print(model.device)\n",
    "model.to(device)\n",
    "model.eval()\n",
    "with torch.no_grad():\n",
    "    state_hist, out_hist = model(batch_images)\n",
    "    final_outputs = out_hist.mean(dim=1)\n",
    "    preds = final_outputs.argmax(dim=1)\n",
    "    accuracy = (preds == batch_labels).float().mean()\n",
    "    print(f\"Accuracy: {accuracy.item() * 100:.2f}%\")\n",
    "    print(f\"Predictions: {preds}\")\n",
    "    print(f\"Ground Truth: {batch_labels}\")\n",
    "    print(f\"Loss: {F.cross_entropy(final_outputs, batch_labels)}\")\n",
    "    "
   ]
  },
  {
   "cell_type": "code",
   "execution_count": 10,
   "metadata": {},
   "outputs": [
    {
     "name": "stdout",
     "output_type": "stream",
     "text": [
      "torch.Size([128, 784, 256])\n"
     ]
    }
   ],
   "source": [
    "print(state_hist.shape)"
   ]
  },
  {
   "cell_type": "code",
   "execution_count": 11,
   "metadata": {},
   "outputs": [
    {
     "data": {
      "image/png": "[encoded data removed]",
      "text/plain": [
       "<Figure size 1200x600 with 3 Axes>"
      ]
     },
     "metadata": {},
     "output_type": "display_data"
    }
   ],
   "source": [
    "import matplotlib.pyplot as plt\n",
    "px = 1 / plt.rcParams['figure.dpi']  # pixel in inches\n",
    "\n",
    "fig, axs = plt.subplots(3, 1, figsize=(1200*px, 600*px))\n",
    "axs[0].plot(batch_images[0].cpu().numpy())\n",
    "axs[0].set_title(\"Input sequence for the first sequence\")\n",
    "axs[1].plot(state_hist[0, :, :20].cpu().numpy())\n",
    "axs[1].set_title(\"State history for the first sequence\")\n",
    "axs[-1].plot(out_hist[0, :, :].cpu().numpy())\n",
    "axs[-1].set_title(\"Output history for the first sequence\")\n",
    "# axs[1].set_yticks(np.arange(0,1.1, 0.1))\n",
    "# axs[1].grid()\n",
    "plt.tight_layout()\n",
    "plt.show()"
   ]
  },
  {
   "cell_type": "code",
   "execution_count": 12,
   "metadata": {},
   "outputs": [
    {
     "ename": "AttributeError",
     "evalue": "'LightningRNNBackbone' object has no attribute 'rnn_layer'",
     "output_type": "error",
     "traceback": [
      "\u001b[0;31m---------------------------------------------------------------------------\u001b[0m",
      "\u001b[0;31mAttributeError\u001b[0m                            Traceback (most recent call last)",
      "Cell \u001b[0;32mIn[12], line 1\u001b[0m\n\u001b[0;32m----> 1\u001b[0m \u001b[38;5;28mprint\u001b[39m(\u001b[43mmodel\u001b[49m\u001b[38;5;241;43m.\u001b[39;49m\u001b[43mrnn_layer\u001b[49m\u001b[38;5;241m.\u001b[39mweight_hh_l0)\n",
      "File \u001b[0;32m~/miniconda3/envs/.jax_conda_env_LearningJAX/lib/python3.12/site-packages/torch/nn/modules/module.py:1688\u001b[0m, in \u001b[0;36mModule.__getattr__\u001b[0;34m(self, name)\u001b[0m\n\u001b[1;32m   1686\u001b[0m     \u001b[38;5;28;01mif\u001b[39;00m name \u001b[38;5;129;01min\u001b[39;00m modules:\n\u001b[1;32m   1687\u001b[0m         \u001b[38;5;28;01mreturn\u001b[39;00m modules[name]\n\u001b[0;32m-> 1688\u001b[0m \u001b[38;5;28;01mraise\u001b[39;00m \u001b[38;5;167;01mAttributeError\u001b[39;00m(\u001b[38;5;124mf\u001b[39m\u001b[38;5;124m\"\u001b[39m\u001b[38;5;124m'\u001b[39m\u001b[38;5;132;01m{\u001b[39;00m\u001b[38;5;28mtype\u001b[39m(\u001b[38;5;28mself\u001b[39m)\u001b[38;5;241m.\u001b[39m\u001b[38;5;18m__name__\u001b[39m\u001b[38;5;132;01m}\u001b[39;00m\u001b[38;5;124m'\u001b[39m\u001b[38;5;124m object has no attribute \u001b[39m\u001b[38;5;124m'\u001b[39m\u001b[38;5;132;01m{\u001b[39;00mname\u001b[38;5;132;01m}\u001b[39;00m\u001b[38;5;124m'\u001b[39m\u001b[38;5;124m\"\u001b[39m)\n",
      "\u001b[0;31mAttributeError\u001b[0m: 'LightningRNNBackbone' object has no attribute 'rnn_layer'"
     ]
    }
   ],
   "source": [
    "print(model.rnn_layer.weight_hh_l0)"
   ]
  },
  {
   "cell_type": "code",
   "execution_count": 66,
   "metadata": {},
   "outputs": [
    {
     "name": "stdout",
     "output_type": "stream",
     "text": [
      "Parameter containing:\n",
      "tensor([[-0.1180],\n",
      "        [ 0.0935],\n",
      "        [ 0.0650],\n",
      "        [ 0.0088],\n",
      "        [-0.0335],\n",
      "        [-0.0455],\n",
      "        [ 0.0266],\n",
      "        [-0.0726],\n",
      "        [ 0.0055],\n",
      "        [-0.0540],\n",
      "        [ 0.0780],\n",
      "        [-0.0986],\n",
      "        [ 0.0575],\n",
      "        [-0.0773],\n",
      "        [ 0.0375],\n",
      "        [ 0.0276],\n",
      "        [ 0.1207],\n",
      "        [ 0.0594],\n",
      "        [-0.0113],\n",
      "        [-0.0713],\n",
      "        [ 0.0121],\n",
      "        [-0.1077],\n",
      "        [-0.0164],\n",
      "        [ 0.0817],\n",
      "        [-0.0627],\n",
      "        [-0.0700],\n",
      "        [-0.1190],\n",
      "        [-0.0832],\n",
      "        [-0.0130],\n",
      "        [ 0.0412],\n",
      "        [-0.0960],\n",
      "        [-0.1203],\n",
      "        [-0.0011],\n",
      "        [ 0.0669],\n",
      "        [ 0.0355],\n",
      "        [-0.0381],\n",
      "        [ 0.0785],\n",
      "        [ 0.0327],\n",
      "        [ 0.0364],\n",
      "        [-0.1152],\n",
      "        [-0.0720],\n",
      "        [ 0.1235],\n",
      "        [-0.1212],\n",
      "        [ 0.0855],\n",
      "        [ 0.0976],\n",
      "        [-0.1080],\n",
      "        [-0.0660],\n",
      "        [ 0.0307],\n",
      "        [-0.0469],\n",
      "        [-0.0060],\n",
      "        [ 0.0432],\n",
      "        [-0.0068],\n",
      "        [ 0.1230],\n",
      "        [ 0.0648],\n",
      "        [ 0.0462],\n",
      "        [ 0.0559],\n",
      "        [-0.1236],\n",
      "        [ 0.0046],\n",
      "        [ 0.0023],\n",
      "        [-0.0627],\n",
      "        [ 0.0682],\n",
      "        [ 0.0856],\n",
      "        [ 0.0737],\n",
      "        [ 0.1099]], device='cuda:0', requires_grad=True)\n"
     ]
    }
   ],
   "source": [
    "print(model.rnn_layer.weight_ih_l0)"
   ]
  },
  {
   "cell_type": "code",
   "execution_count": 67,
   "metadata": {},
   "outputs": [
    {
     "name": "stdout",
     "output_type": "stream",
     "text": [
      "Parameter containing:\n",
      "tensor([0., 0., 0., 0., 0., 0., 0., 0., 0., 0., 0., 0., 0., 0., 0., 0., 0., 0., 0., 0., 0., 0., 0., 0.,\n",
      "        0., 0., 0., 0., 0., 0., 0., 0., 0., 0., 0., 0., 0., 0., 0., 0., 0., 0., 0., 0., 0., 0., 0., 0.,\n",
      "        0., 0., 0., 0., 0., 0., 0., 0., 0., 0., 0., 0., 0., 0., 0., 0.],\n",
      "       device='cuda:0', requires_grad=True)\n",
      "Parameter containing:\n",
      "tensor([0., 0., 0., 0., 0., 0., 0., 0., 0., 0., 0., 0., 0., 0., 0., 0., 0., 0., 0., 0., 0., 0., 0., 0.,\n",
      "        0., 0., 0., 0., 0., 0., 0., 0., 0., 0., 0., 0., 0., 0., 0., 0., 0., 0., 0., 0., 0., 0., 0., 0.,\n",
      "        0., 0., 0., 0., 0., 0., 0., 0., 0., 0., 0., 0., 0., 0., 0., 0.],\n",
      "       device='cuda:0', requires_grad=True)\n"
     ]
    }
   ],
   "source": [
    "print(model.rnn_layer.bias_hh_l0)\n",
    "print(model.rnn_layer.bias_ih_l0)"
   ]
  },
  {
   "cell_type": "code",
   "execution_count": null,
   "metadata": {},
   "outputs": [],
   "source": []
  }
 ],
 "metadata": {
  "kernelspec": {
   "display_name": ".jax_conda_env_LearningJAX",
   "language": "python",
   "name": "python3"
  },
  "language_info": {
   "codemirror_mode": {
    "name": "ipython",
    "version": 3
   },
   "file_extension": ".py",
   "mimetype": "text/x-python",
   "name": "python",
   "nbconvert_exporter": "python",
   "pygments_lexer": "ipython3",
   "version": "3.12.9"
  }
 },
 "nbformat": 4,
 "nbformat_minor": 2
}
