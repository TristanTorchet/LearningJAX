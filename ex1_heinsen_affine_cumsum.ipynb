{
 "cells": [
  {
   "cell_type": "markdown",
   "metadata": {},
   "source": [
    "# Heisen (2023) - Efficient Parallelization of a Ubiquitous Sequential Computation"
   ]
  },
  {
   "cell_type": "code",
   "execution_count": 8,
   "metadata": {},
   "outputs": [
    {
     "name": "stdout",
     "output_type": "stream",
     "text": [
      "/Users/tristantorchet/Desktop/Code/VSCode/LearningJAX/.venv/bin/python\n"
     ]
    },
    {
     "name": "stderr",
     "output_type": "stream",
     "text": [
      "/opt/homebrew/Cellar/python@3.12/3.12.4/Frameworks/Python.framework/Versions/3.12/lib/python3.12/pty.py:95: RuntimeWarning: os.fork() was called. os.fork() is incompatible with multithreaded code, and JAX is multithreaded, so this will likely lead to a deadlock.\n",
      "  pid, fd = os.forkpty()\n"
     ]
    }
   ],
   "source": [
    "!which python"
   ]
  },
  {
   "cell_type": "code",
   "execution_count": 9,
   "metadata": {},
   "outputs": [],
   "source": [
    "import jax\n",
    "import jax.numpy as jnp\n",
    "import numpy as np\n",
    "import matplotlib.pyplot as plt"
   ]
  },
  {
   "cell_type": "markdown",
   "metadata": {},
   "source": [
    "## 1. simple cumsum"
   ]
  },
  {
   "cell_type": "code",
   "execution_count": 10,
   "metadata": {},
   "outputs": [],
   "source": [
    "seq_len = 1000\n",
    "key = jax.random.PRNGKey(0)\n",
    "key, subkey_a = jax.random.split(key)\n",
    "a = jax.random.normal(subkey_a, (seq_len,))"
   ]
  },
  {
   "cell_type": "markdown",
   "metadata": {},
   "source": [
    "### 1.1 Using a for loop to compute the correct cumsum which will be used to verify the correctness of the parallelized version"
   ]
  },
  {
   "cell_type": "code",
   "execution_count": 11,
   "metadata": {},
   "outputs": [
    {
     "name": "stdout",
     "output_type": "stream",
     "text": [
      "(1000,)\n",
      "[ 1.2365611   0.08250463 -1.9398266  -2.4568925  -2.713965  ]\n"
     ]
    }
   ],
   "source": [
    "gt_result = []\n",
    "x_t = 0 \n",
    "for i in range(seq_len):\n",
    "    x_t += a[i]\n",
    "    gt_result.append(x_t)\n",
    "gt_result = jnp.array(gt_result)\n",
    "print(gt_result.shape)\n",
    "print(gt_result[:5])"
   ]
  },
  {
   "cell_type": "markdown",
   "metadata": {},
   "source": [
    "### 1.2 Comparing the speed of manual, jit_manual, lax.scan, and jnp.cumsum"
   ]
  },
  {
   "cell_type": "code",
   "execution_count": 16,
   "metadata": {},
   "outputs": [
    {
     "name": "stdout",
     "output_type": "stream",
     "text": [
      "Lax scan correct:\n",
      "True\n",
      "Jit correct:\n",
      "True\n",
      "Jnp cumsum correct:\n",
      "True\n",
      "lax associative scan correct:\n",
      "True\n",
      "\n",
      "manual\n",
      "70.5 ms ± 1.16 ms per loop (mean ± std. dev. of 7 runs, 1 loop each)\n",
      "\n",
      "jit manual\n",
      "The slowest run took 19.55 times longer than the fastest. This could mean that an intermediate result is being cached.\n",
      "33.1 μs ± 52.1 μs per loop (mean ± std. dev. of 7 runs, 1 loop each)\n",
      "\n",
      "lax scan\n",
      "91.9 μs ± 43.2 μs per loop (mean ± std. dev. of 7 runs, 1 loop each)\n",
      "\n",
      "cumsum jnp\n",
      "8.93 μs ± 3.45 μs per loop (mean ± std. dev. of 7 runs, 1 loop each)\n",
      "\n",
      "lax ass scan\n",
      "1.06 ms ± 205 μs per loop (mean ± std. dev. of 7 runs, 1 loop each)\n"
     ]
    }
   ],
   "source": [
    "def cumsum_manual(a):\n",
    "    x_t = 0\n",
    "    x_cs = []\n",
    "    for i in range(seq_len):\n",
    "        x_t += a[i]\n",
    "        x_cs.append(x_t)\n",
    "    return jnp.array(x_cs)\n",
    "\n",
    "jit_cumsum_manual = jax.jit(cumsum_manual)\n",
    "\n",
    "def cumsum_lax_scan(state, a):\n",
    "    x_t = state\n",
    "    x_t += a\n",
    "    return x_t, x_t # state and output\n",
    "\n",
    "x_0 = 0.\n",
    "_, result_lax_scan = jax.lax.scan(cumsum_lax_scan, x_0, a)\n",
    "result_jit = jit_cumsum_manual(a) # warm up\n",
    "result_jnpcs = jnp.cumsum(a) # warm up\n",
    "result_lax_ass_scan = jax.lax.associative_scan(jnp.add, a) # warm up\n",
    "\n",
    "print('Lax scan correct:')\n",
    "print(jnp.allclose(result_lax_scan, gt_result, atol=1e-6))\n",
    "print('Jit correct:')\n",
    "print(jnp.allclose(result_jit, gt_result, atol=1e-6))\n",
    "print('Jnp cumsum correct:')\n",
    "print(jnp.allclose(result_jnpcs, gt_result, atol=1e-4)) # need a higher atol\n",
    "print('lax associative scan correct:')\n",
    "print(jnp.allclose(result_lax_ass_scan, gt_result, atol=1e-4)) # need a higher atol\n",
    "\n",
    "\n",
    "\n",
    "print('\\nmanual')\n",
    "%timeit -n 1 -r 7 cumsum_manual(a)\n",
    "print('\\njit manual')\n",
    "%timeit -n 1 -r 7 jit_cumsum_manual(a)\n",
    "print('\\nlax scan')\n",
    "%timeit -n 1 -r 7 jax.lax.scan(cumsum_lax_scan, x_0, a)\n",
    "print('\\ncumsum jnp')\n",
    "%timeit -n 1 -r 7 jnp.cumsum(a)\n",
    "print('\\nlax ass scan')\n",
    "%timeit -n 1 -r 7 jax.lax.associative_scan(jnp.add, a)"
   ]
  },
  {
   "cell_type": "markdown",
   "metadata": {},
   "source": [
    "## 2. Affine cumsum"
   ]
  },
  {
   "cell_type": "code",
   "execution_count": 17,
   "metadata": {},
   "outputs": [
    {
     "name": "stdout",
     "output_type": "stream",
     "text": [
      "[-9.9657071e-01 -9.7286172e-04 -4.8290953e-01 -1.5715115e+00\n",
      " -6.2422973e-01]\n"
     ]
    }
   ],
   "source": [
    "seq_len = 1000\n",
    "key = jax.random.PRNGKey(0)\n",
    "key, subkey_a, subkey_b = jax.random.split(key, 3)\n",
    "a = jax.random.normal(subkey_a, (seq_len,))\n",
    "b = jax.random.normal(subkey_b, (seq_len,))\n",
    "print(a[:5])"
   ]
  },
  {
   "cell_type": "markdown",
   "metadata": {},
   "source": [
    "### 2.1 Using a for loop to compute the correct affine cumsum which will be used to verify the correctness of the parallelized version"
   ]
  },
  {
   "cell_type": "code",
   "execution_count": 18,
   "metadata": {},
   "outputs": [],
   "source": [
    "gt_aff_cs_res = []\n",
    "x_t = 0\n",
    "gt_aff_cs_res.append(x_t)\n",
    "for i in range(seq_len):\n",
    "    x_t = a[i] * x_t + b[i]\n",
    "    gt_aff_cs_res.append(x_t)\n",
    "gt_aff_cs_res = jnp.array(gt_aff_cs_res)"
   ]
  },
  {
   "cell_type": "code",
   "execution_count": 19,
   "metadata": {},
   "outputs": [
    {
     "name": "stdout",
     "output_type": "stream",
     "text": [
      "True\n",
      "107 ms ± 8.06 ms per loop (mean ± std. dev. of 7 runs, 1 loop each)\n"
     ]
    }
   ],
   "source": [
    "def affine_cumsum_manual(a, b):\n",
    "    x_cs = []\n",
    "    x_t = 0\n",
    "    x_cs.append(x_t)\n",
    "    for i in range(seq_len):\n",
    "        x_t = a[i] * x_t + b[i]\n",
    "        x_cs.append(x_t)\n",
    "    return jnp.array(x_cs)\n",
    "\n",
    "result_aff_cs_man = affine_cumsum_manual(a, b)\n",
    "print(jnp.allclose(gt_aff_cs_res, result_aff_cs_man, atol=1e-6))\n",
    "\n",
    "%timeit -n 1 -r 7 affine_cumsum_manual(a, b)"
   ]
  },
  {
   "cell_type": "code",
   "execution_count": 20,
   "metadata": {},
   "outputs": [
    {
     "ename": "NameError",
     "evalue": "name 'jit_affine_cumsum_manual' is not defined",
     "output_type": "error",
     "traceback": [
      "\u001b[0;31m---------------------------------------------------------------------------\u001b[0m",
      "\u001b[0;31mNameError\u001b[0m                                 Traceback (most recent call last)",
      "Cell \u001b[0;32mIn[20], line 1\u001b[0m\n\u001b[0;32m----> 1\u001b[0m _ \u001b[38;5;241m=\u001b[39m \u001b[43mjit_affine_cumsum_manual\u001b[49m(a, b) \u001b[38;5;66;03m# this takes a while ~ 16s\u001b[39;00m\n\u001b[1;32m      3\u001b[0m \u001b[38;5;66;03m# warm up\u001b[39;00m\n\u001b[1;32m      4\u001b[0m _ \u001b[38;5;241m=\u001b[39m jit_affine_cumsum_manual(a, b) \u001b[38;5;66;03m# this takes a while ~ 16s\u001b[39;00m\n",
      "\u001b[0;31mNameError\u001b[0m: name 'jit_affine_cumsum_manual' is not defined"
     ]
    }
   ],
   "source": [
    "_ = jit_affine_cumsum_manual(a, b) # this takes a while ~ 16s\n",
    "\n",
    "# warm up\n",
    "_ = jit_affine_cumsum_manual(a, b) # this takes a while ~ 16s\n",
    "%timeit -n 1 -r 7 jit_affine_cumsum_manual(a, b)"
   ]
  },
  {
   "cell_type": "markdown",
   "metadata": {},
   "source": [
    "## 3 Recursion using cumsum\n",
    "We need to ensure that $a$ and $b$ are <font color='red'>positive</font> because the acceleration uses logaritmic scale."
   ]
  },
  {
   "cell_type": "code",
   "execution_count": null,
   "metadata": {},
   "outputs": [],
   "source": [
    "seq_len = 1000\n",
    "key = jax.random.PRNGKey(0)\n",
    "key, subkey_in, subkey_a, subkey_b = jax.random.split(key, 4)\n",
    "inputs = jax.random.normal(subkey_in, (seq_len,))\n",
    "a = jax.random.normal(subkey_a, (seq_len,))\n",
    "a = jnp.abs(a) # make sure it is positive, because we will use log\n",
    "b = jax.random.normal(subkey_b, (seq_len,))\n",
    "b = jnp.abs(b) # make sure it is positive, because we will use log\n",
    "print(a[:5])"
   ]
  },
  {
   "cell_type": "code",
   "execution_count": null,
   "metadata": {},
   "outputs": [],
   "source": [
    "gt_aff_cs_res = []\n",
    "x_t = 0\n",
    "gt_aff_cs_res.append(x_t)\n",
    "for i in range(seq_len):\n",
    "    x_t = a[i] * x_t + b[i]\n",
    "    gt_aff_cs_res.append(x_t)\n",
    "gt_aff_cs_res = jnp.array(gt_aff_cs_res)"
   ]
  },
  {
   "cell_type": "markdown",
   "metadata": {},
   "source": [
    "### 3.1 Using Heinsen vanilla formulation (unstable if the cumulative prodct goes to zero)"
   ]
  },
  {
   "cell_type": "code",
   "execution_count": 21,
   "metadata": {},
   "outputs": [
    {
     "name": "stdout",
     "output_type": "stream",
     "text": [
      "[-9.9657071e-01  9.6952548e-04 -4.6819309e-04  7.3577085e-04\n",
      " -4.5929005e-04]\n",
      "[-9.9657071e-01 -9.7286172e-04 -4.8290953e-01 -1.5715115e+00\n",
      " -6.2422973e-01]\n",
      "[-1.7909826e-01 -1.9601681e+03 -1.6865375e+03 -4.4769731e+03\n",
      " -1.6674194e+03]\n"
     ]
    }
   ],
   "source": [
    "@jax.jit\n",
    "def cumprod(a):\n",
    "    x_t = 1.\n",
    "    res = []\n",
    "    for _, a in enumerate(a):\n",
    "        x_t *= a \n",
    "        res.append(x_t)\n",
    "    return jnp.array(res)\n",
    "\n",
    "a_cp = cumprod(a)\n",
    "print(a_cp[:5])\n",
    "print(a[:5])\n",
    "\n",
    "@jax.jit\n",
    "def cumsum_div(x, y):\n",
    "    return jnp.cumsum(x/y)\n",
    "\n",
    "c = cumsum_div(b, a_cp)\n",
    "print(c[:5])"
   ]
  },
  {
   "cell_type": "markdown",
   "metadata": {},
   "source": [
    "As the cumulative product of $a$ is used in the denominator, the recursion is unstable if the cumulative product goes to zero."
   ]
  },
  {
   "cell_type": "code",
   "execution_count": 22,
   "metadata": {},
   "outputs": [
    {
     "name": "stdout",
     "output_type": "stream",
     "text": [
      "True\n"
     ]
    }
   ],
   "source": [
    "# check if a_cp has a 0\n",
    "print(jnp.any(a_cp == 0))"
   ]
  },
  {
   "cell_type": "markdown",
   "metadata": {},
   "source": [
    "Indeed, running the following cells, we will see that the $final$ sequences has `nan` values."
   ]
  },
  {
   "cell_type": "code",
   "execution_count": 23,
   "metadata": {},
   "outputs": [
    {
     "name": "stdout",
     "output_type": "stream",
     "text": [
      "[ 0.17848408 -1.900433    0.78962517 -3.2940264   0.76582915]\n",
      "[ 0.17848408 -1.900433    0.7896252  -3.2940264   0.7658291 ]\n"
     ]
    }
   ],
   "source": [
    "# d = inputs[0] + c \n",
    "d = 0 + c \n",
    "final = a_cp * d\n",
    "print(final[:5])\n",
    "print(gt_aff_cs_res[1:6])"
   ]
  },
  {
   "cell_type": "code",
   "execution_count": 24,
   "metadata": {},
   "outputs": [
    {
     "data": {
      "image/png": "[encoded data removed]",
      "text/plain": [
       "<Figure size 800x300 with 1 Axes>"
      ]
     },
     "metadata": {},
     "output_type": "display_data"
    }
   ],
   "source": [
    "# plot \n",
    "import matplotlib.pyplot as plt\n",
    "px = 1/plt.rcParams['figure.dpi']  # pixel in inches\n",
    "gt_to_plot = gt_aff_cs_res[1:]\n",
    "final_to_plot = final\n",
    "fig, ax = plt.subplots(1,1, figsize=(800*px, 300*px))\n",
    "t = np.arange(seq_len)\n",
    "ax.plot(t, gt_to_plot, label='gt')\n",
    "ax.plot(t, final_to_plot, label='final')\n",
    "ax.legend()\n",
    "plt.show()\n"
   ]
  },
  {
   "cell_type": "markdown",
   "metadata": {},
   "source": [
    "### 3.2 Using Heinsen stable formulation using log <font color='red'> (not stable yet) </font>\n",
    "To stabilize the recursion, we can use the cumulative sum of the log of $a$."
   ]
  },
  {
   "cell_type": "code",
   "execution_count": 25,
   "metadata": {},
   "outputs": [
    {
     "name": "stdout",
     "output_type": "stream",
     "text": [
      "False\n"
     ]
    }
   ],
   "source": [
    "log_a = jnp.log(a)\n",
    "log_b = jnp.log(b)\n",
    "cs_log_a = jnp.cumsum(log_a)\n",
    "c = jnp.exp(log_b - cs_log_a)\n",
    "c_cs = jnp.cumsum(c)\n",
    "d = 0 + c_cs\n",
    "log_d = jnp.log(d)\n",
    "log_final = cs_log_a + log_d\n",
    "print(jnp.allclose(final, jnp.log(gt_aff_cs_res[1:]), atol=1e-6))"
   ]
  },
  {
   "cell_type": "markdown",
   "metadata": {},
   "source": [
    "We need to check that no cumulative sum is either `nan` or `inf`."
   ]
  },
  {
   "cell_type": "code",
   "execution_count": 26,
   "metadata": {},
   "outputs": [
    {
     "name": "stdout",
     "output_type": "stream",
     "text": [
      "False\n",
      "False\n",
      "False\n",
      "False\n",
      "False\n",
      "True\n"
     ]
    }
   ],
   "source": [
    "# check if a has a inf or nan\n",
    "print(jnp.any(jnp.isinf(a)))\n",
    "print(jnp.any(jnp.isnan(a)))\n",
    "\n",
    "# check if b has a inf or nan\n",
    "print(jnp.any(jnp.isinf(b)))\n",
    "print(jnp.any(jnp.isnan(b)))\n",
    "\n",
    "# check if c has a inf or nan\n",
    "print(jnp.any(jnp.isinf(c)))\n",
    "print(jnp.any(jnp.isnan(c)))"
   ]
  },
  {
   "cell_type": "markdown",
   "metadata": {},
   "source": [
    "We can see tha `c` has `inf` values because it computes the exponential of a cumulative sum."
   ]
  },
  {
   "cell_type": "code",
   "execution_count": 27,
   "metadata": {},
   "outputs": [
    {
     "name": "stdout",
     "output_type": "stream",
     "text": [
      "[nan nan nan nan nan]\n",
      "[-1.7232559          nan -0.23619685         nan -0.26679626]\n"
     ]
    }
   ],
   "source": [
    "print(log_final[:5])\n",
    "print(jnp.log(gt_aff_cs_res[1:6]))"
   ]
  },
  {
   "cell_type": "code",
   "execution_count": 28,
   "metadata": {},
   "outputs": [
    {
     "data": {
      "image/png": "[encoded data removed]",
      "text/plain": [
       "<Figure size 800x300 with 1 Axes>"
      ]
     },
     "metadata": {},
     "output_type": "display_data"
    }
   ],
   "source": [
    "# plot \n",
    "import matplotlib.pyplot as plt\n",
    "px = 1/plt.rcParams['figure.dpi']  # pixel in inches\n",
    "gt_to_plot = jnp.log(gt_aff_cs_res[1:])\n",
    "final_to_plot = log_final\n",
    "fig, ax = plt.subplots(1,1, figsize=(800*px, 300*px))\n",
    "t = np.arange(seq_len)\n",
    "ax.plot(t, gt_to_plot, label='gt')\n",
    "ax.plot(t, final_to_plot, label='final')\n",
    "ax.legend()\n",
    "plt.show()\n"
   ]
  },
  {
   "cell_type": "code",
   "execution_count": 29,
   "metadata": {},
   "outputs": [
    {
     "data": {
      "text/plain": [
       "Array([nan, nan, nan, nan, nan, nan, nan, nan, nan, nan, nan, nan, nan,\n",
       "       nan, nan, nan, nan, nan, nan, nan, nan, nan, nan, nan, nan, nan,\n",
       "       nan, nan, nan, nan, nan, nan, nan, nan, nan, nan, nan, nan, nan,\n",
       "       nan, nan, nan, nan, nan, nan, nan, nan, nan, nan, nan],      dtype=float32)"
      ]
     },
     "execution_count": 29,
     "metadata": {},
     "output_type": "execute_result"
    }
   ],
   "source": [
    "log_final[150:200]"
   ]
  },
  {
   "cell_type": "code",
   "execution_count": null,
   "metadata": {},
   "outputs": [],
   "source": []
  },
  {
   "cell_type": "code",
   "execution_count": null,
   "metadata": {},
   "outputs": [],
   "source": []
  },
  {
   "cell_type": "code",
   "execution_count": null,
   "metadata": {},
   "outputs": [],
   "source": []
  }
 ],
 "metadata": {
  "kernelspec": {
   "display_name": ".venv",
   "language": "python",
   "name": "python3"
  },
  "language_info": {
   "codemirror_mode": {
    "name": "ipython",
    "version": 3
   },
   "file_extension": ".py",
   "mimetype": "text/x-python",
   "name": "python",
   "nbconvert_exporter": "python",
   "pygments_lexer": "ipython3",
   "version": "3.12.4"
  }
 },
 "nbformat": 4,
 "nbformat_minor": 2
}
