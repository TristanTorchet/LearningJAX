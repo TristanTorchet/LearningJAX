{
 "cells": [
  {
   "cell_type": "code",
   "execution_count": 1,
   "metadata": {},
   "outputs": [],
   "source": [
    "import jax\n",
    "import jax.numpy as jnp"
   ]
  },
  {
   "cell_type": "markdown",
   "metadata": {},
   "source": [
    "### By default, pytree containers can be lists, tuples, dicts, namedtuple, None, OrderedDict. Other types of values, including numeric and ndarray values, are treated as leaves:"
   ]
  },
  {
   "cell_type": "code",
   "execution_count": 2,
   "metadata": {},
   "outputs": [
    {
     "data": {
      "text/plain": [
       "([1, 2, 3, 4, 5], PyTreeDef([*, (*, *), [*, *]]))"
      ]
     },
     "execution_count": 2,
     "metadata": {},
     "output_type": "execute_result"
    }
   ],
   "source": [
    "custom_structure = [1, (2, 3), [4, 5]]\n",
    "jax.tree_util.tree_flatten(custom_structure)"
   ]
  },
  {
   "cell_type": "code",
   "execution_count": 3,
   "metadata": {},
   "outputs": [
    {
     "name": "stdout",
     "output_type": "stream",
     "text": [
      "example_containers=\n",
      "structured=[(1.0, [2.0, 3.0]), (1.0, {'b': 2.0, 'a': 3.0}), 1.0, None, Array([0., 0.], dtype=float32), Point(x=1.0, y=2.0)]\n",
      "  flat=[1.0, 2.0, 3.0, 1.0, 3.0, 2.0, 1.0, Array([0., 0.], dtype=float32), 1.0, 2.0]\n",
      "  tree=PyTreeDef([(*, [*, *]), (*, {'a': *, 'b': *}), *, None, *, CustomNode(namedtuple[Point], [*, *])])\n",
      "  unflattened=[(1.0, [2.0, 3.0]), (1.0, {'a': 3.0, 'b': 2.0}), 1.0, None, Array([0., 0.], dtype=float32), Point(x=1.0, y=2.0)]\n",
      "\n",
      "\n",
      "structured=(1.0, [2.0, 3.0])\n",
      "  flat=[1.0, 2.0, 3.0]\n",
      "  tree=PyTreeDef((*, [*, *]))\n",
      "  unflattened=(1.0, [2.0, 3.0])\n",
      "\n",
      "\n",
      "structured=(1.0, {'b': 2.0, 'a': 3.0})\n",
      "  flat=[1.0, 3.0, 2.0]\n",
      "  tree=PyTreeDef((*, {'a': *, 'b': *}))\n",
      "  unflattened=(1.0, {'a': 3.0, 'b': 2.0})\n",
      "\n",
      "\n",
      "structured=1.0\n",
      "  flat=[1.0]\n",
      "  tree=PyTreeDef(*)\n",
      "  unflattened=1.0\n",
      "\n",
      "\n",
      "structured=None\n",
      "  flat=[]\n",
      "  tree=PyTreeDef(None)\n",
      "  unflattened=None\n",
      "\n",
      "\n",
      "structured=Array([0., 0.], dtype=float32)\n",
      "  flat=[Array([0., 0.], dtype=float32)]\n",
      "  tree=PyTreeDef(*)\n",
      "  unflattened=Array([0., 0.], dtype=float32)\n",
      "\n",
      "\n",
      "structured=Point(x=1.0, y=2.0)\n",
      "  flat=[1.0, 2.0]\n",
      "  tree=PyTreeDef(CustomNode(namedtuple[Point], [*, *]))\n",
      "  unflattened=Point(x=1.0, y=2.0)\n"
     ]
    }
   ],
   "source": [
    "from collections import namedtuple\n",
    "Point = namedtuple('Point', ['x', 'y'])\n",
    "\n",
    "example_containers = [\n",
    "    (1., [2., 3.]),\n",
    "    (1., {'b': 2., 'a': 3.}),\n",
    "    1.,\n",
    "    None,\n",
    "    jnp.zeros(2), # only object that is considered a leaf\n",
    "    Point(1., 2.)\n",
    "]\n",
    "def show_example(structured):\n",
    "    flat, tree = jax.tree_util.tree_flatten(structured)\n",
    "    unflattened = jax.tree_util.tree_unflatten(tree, flat)\n",
    "    print(f\"{structured=}\\n  {flat=}\\n  {tree=}\\n  {unflattened=}\")\n",
    "\n",
    "print(f'example_containers=')\n",
    "show_example(example_containers)\n",
    "for structured in example_containers:\n",
    "    print('\\n')\n",
    "    show_example(structured)"
   ]
  },
  {
   "cell_type": "markdown",
   "metadata": {},
   "source": [
    "Python objects: https://docs.python.org/3/reference/datamodel.html#basic-customization, https://stackoverflow.com/questions/73409385/object-class-documentation-in-python, https://docs.python.org/3/library/functions.html#object"
   ]
  },
  {
   "cell_type": "markdown",
   "metadata": {},
   "source": [
    "### To extend the set of objects that are recognized as nodes, we can register new objects"
   ]
  },
  {
   "cell_type": "code",
   "execution_count": 4,
   "metadata": {},
   "outputs": [],
   "source": [
    "# create a dummy model as a ABC class with dataclass\n",
    "from dataclasses import dataclass\n",
    "from abc import ABC, abstractmethod\n",
    "\n",
    "# AbstractLayer is an abstract class which cannot be instantiated\n",
    "# ABC classes with abstract methods insure that all subclasses implement the abstract methods\n",
    "# (It doesn't make sense to use the @dataclass decorator with an ABC class)\n",
    "class AbstractLayer(ABC):\n",
    "    @abstractmethod\n",
    "    def __call__(self, x):\n",
    "        pass"
   ]
  },
  {
   "cell_type": "code",
   "execution_count": 5,
   "metadata": {},
   "outputs": [],
   "source": [
    "@jax.tree_util.register_pytree_node_class\n",
    "@dataclass\n",
    "class PyTreeLayer(AbstractLayer):\n",
    "    weight: jax.Array\n",
    "    bias: jax.Array\n",
    "    name: str\n",
    "\n",
    "    def __call__(self, x):\n",
    "        return self.weight @ x + self.bias\n",
    "    \n",
    "    def tree_flatten(self):\n",
    "        children = (self.weight, self.bias) # the children of the current node\n",
    "        aux_data = (self.name,) # auxiliary data that are not part of the tree structure\n",
    "        return children, aux_data\n",
    "    \n",
    "    @classmethod\n",
    "    def tree_unflatten(cls, aux_data, children):\n",
    "        return cls(*children, *aux_data)"
   ]
  },
  {
   "cell_type": "code",
   "execution_count": 9,
   "metadata": {},
   "outputs": [
    {
     "name": "stdout",
     "output_type": "stream",
     "text": [
      "PyTreeLayer(weight=Array([[ 0.18784384, -1.2833426 ],\n",
      "       [ 0.6494181 ,  1.2490594 ],\n",
      "       [ 0.24447003, -0.11744965]], dtype=float32), bias=Array([ 0.17269018, -0.64765567,  1.2229712 ], dtype=float32), name='layer1')\n"
     ]
    }
   ],
   "source": [
    "w = jax.random.normal(jax.random.PRNGKey(0), (3, 2))\n",
    "b = jax.random.normal(jax.random.PRNGKey(1), (3,))\n",
    "\n",
    "layer = PyTreeLayer(w, b, 'layer1')\n",
    "print(layer)"
   ]
  },
  {
   "cell_type": "code",
   "execution_count": 7,
   "metadata": {},
   "outputs": [
    {
     "name": "stdout",
     "output_type": "stream",
     "text": [
      "[Array([[ 0.18784384, -1.2833426 ],\n",
      "       [ 0.6494181 ,  1.2490594 ],\n",
      "       [ 0.24447003, -0.11744965]], dtype=float32), Array([ 0.17269018, -0.64765567,  1.2229712 ], dtype=float32)]\n",
      "PyTreeDef(CustomNode(PyTreeLayer[('layer1',)], [*, *])) \n",
      "\n",
      "PyTreeLayer(weight=Array([[ 0.18784384, -1.2833426 ],\n",
      "       [ 0.6494181 ,  1.2490594 ],\n",
      "       [ 0.24447003, -0.11744965]], dtype=float32), bias=Array([ 0.17269018, -0.64765567,  1.2229712 ], dtype=float32), name='layer1')\n"
     ]
    }
   ],
   "source": [
    "leaves, aux_data = jax.tree_util.tree_flatten(layer)\n",
    "print(leaves)\n",
    "print(aux_data, '\\n')\n",
    "\n",
    "layer_reconstructed = jax.tree_util.tree_unflatten(aux_data, leaves) # will throw an error\n",
    "print(layer_reconstructed)"
   ]
  },
  {
   "cell_type": "code",
   "execution_count": 8,
   "metadata": {},
   "outputs": [
    {
     "name": "stdout",
     "output_type": "stream",
     "text": [
      "(Array([[ 0.18784384, -1.2833426 ],\n",
      "       [ 0.6494181 ,  1.2490594 ],\n",
      "       [ 0.24447003, -0.11744965]], dtype=float32), Array([ 0.17269018, -0.64765567,  1.2229712 ], dtype=float32))\n",
      "('layer1',)\n",
      "PyTreeLayer(weight=Array([[ 0.18784384, -1.2833426 ],\n",
      "       [ 0.6494181 ,  1.2490594 ],\n",
      "       [ 0.24447003, -0.11744965]], dtype=float32), bias=Array([ 0.17269018, -0.64765567,  1.2229712 ], dtype=float32), name='layer1')\n"
     ]
    }
   ],
   "source": [
    "leaves, aux_data = layer.tree_flatten()\n",
    "print(leaves)\n",
    "print(aux_data)\n",
    "\n",
    "layer_reconstructed = PyTreeLayer.tree_unflatten(aux_data, leaves) # will work\n",
    "print(layer_reconstructed)"
   ]
  },
  {
   "cell_type": "markdown",
   "metadata": {},
   "source": [
    "### Then jax has multiple functions to manipulate pytree containers, including: `jax.tree_map`, `jax.tree_multimap`, `jax.tree_flatten`, `jax.tree_unflatten`, `jax.tree_leaves`, `jax.tree_structure`, `jax.tree_transpose`, `jax.tree_reduce`, `jax.tree_all`, `jax.tree_any`, `jax.tree_pmap`, `jax.tree_util`, `jax.tree_util.tree_flatten`, `jax.tree_util.tree_unflatten`, `jax.tree_util.tree_structure`, `jax.tree_util.tree_transpose`, `jax.tree_util.tree_reduce`, `jax.tree_util.tree_all`, `jax.tree_util.tree_any`, `jax.tree_util.tree_pmap`"
   ]
  },
  {
   "cell_type": "markdown",
   "metadata": {},
   "source": [
    "### For example, `jax.tree_map` applies a function to each node in a pytree, preserving the tree structure: Here we square each leaf in a pytree"
   ]
  },
  {
   "cell_type": "code",
   "execution_count": 12,
   "metadata": {},
   "outputs": [
    {
     "name": "stdout",
     "output_type": "stream",
     "text": [
      "PyTreeLayer(weight=Array([[ 0.18784384, -1.2833426 ],\n",
      "       [ 0.6494181 ,  1.2490594 ],\n",
      "       [ 0.24447003, -0.11744965]], dtype=float32), bias=Array([ 0.17269018, -0.64765567,  1.2229712 ], dtype=float32), name='layer1')\n",
      "PyTreeLayer(weight=Array([[0.03528531, 1.6469682 ],\n",
      "       [0.4217439 , 1.5601494 ],\n",
      "       [0.0597656 , 0.01379442]], dtype=float32), bias=Array([0.0298219 , 0.41945785, 1.4956585 ], dtype=float32), name='layer1')\n"
     ]
    }
   ],
   "source": [
    "print(layer)\n",
    "layer_squared = jax.tree_util.tree_map(lambda x: x**2, layer)\n",
    "print(layer_squared)"
   ]
  },
  {
   "cell_type": "code",
   "execution_count": null,
   "metadata": {},
   "outputs": [],
   "source": []
  }
 ],
 "metadata": {
  "kernelspec": {
   "display_name": ".venv",
   "language": "python",
   "name": "python3"
  },
  "language_info": {
   "codemirror_mode": {
    "name": "ipython",
    "version": 3
   },
   "file_extension": ".py",
   "mimetype": "text/x-python",
   "name": "python",
   "nbconvert_exporter": "python",
   "pygments_lexer": "ipython3",
   "version": "3.12.4"
  }
 },
 "nbformat": 4,
 "nbformat_minor": 2
}
