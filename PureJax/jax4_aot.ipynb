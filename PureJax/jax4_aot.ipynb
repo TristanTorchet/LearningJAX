{
 "cells": [
  {
   "cell_type": "code",
   "execution_count": 6,
   "metadata": {},
   "outputs": [
    {
     "name": "stdout",
     "output_type": "stream",
     "text": [
      "module @jit_f attributes {mhlo.num_partitions = 1 : i32, mhlo.num_replicas = 1 : i32} {\n",
      "  func.func public @main(%arg0: tensor<i32> {mhlo.layout_mode = \"default\", mhlo.sharding = \"{replicated}\"}, %arg1: tensor<i32> {mhlo.layout_mode = \"default\", mhlo.sharding = \"{replicated}\"}) -> (tensor<i32> {jax.result_info = \"\", mhlo.layout_mode = \"default\"}) {\n",
      "    %0 = stablehlo.constant dense<2> : tensor<i32>\n",
      "    %1 = stablehlo.multiply %0, %arg0 : tensor<i32>\n",
      "    %2 = stablehlo.add %1, %arg1 : tensor<i32>\n",
      "    return %2 : tensor<i32>\n",
      "  }\n",
      "}\n",
      "\n",
      "10\n"
     ]
    }
   ],
   "source": [
    "import jax\n",
    "import jax.numpy as jnp\n",
    "\n",
    "def f(x, y): return 2 * x + y\n",
    "x, y = 3, 4\n",
    "\n",
    "lowered = jax.jit(f).lower(x, y)\n",
    "\n",
    "# Print lowered HLO\n",
    "print(lowered.as_text())\n",
    "# module @jit_f attributes {mhlo.num_partitions = 1 : i32, mhlo.num_replicas = 1 : i32} {\n",
    "#   func.func public @main(%arg0: tensor<i32>, %arg1: tensor<i32>) -> (tensor<i32> {jax.result_info = \"\"}) {\n",
    "#     %c = stablehlo.constant dense<2> : tensor<i32>\n",
    "#     %0 = stablehlo.multiply %c, %arg0 : tensor<i32>\n",
    "#     %1 = stablehlo.add %0, %arg1 : tensor<i32>\n",
    "#     return %1 : tensor<i32>\n",
    "#   }\n",
    "# }\n",
    "\n",
    "compiled = lowered.compile()\n",
    "\n",
    "# Query for cost analysis, print FLOP estimate\n",
    "compiled.cost_analysis()[0]['flops']\n",
    "2.0\n",
    "\n",
    "# Execute the compiled function!\n",
    "print(compiled(x, y))\n",
    "# Array(10, dtype=int32, weak_type=True)\n"
   ]
  },
  {
   "cell_type": "code",
   "execution_count": 7,
   "metadata": {},
   "outputs": [
    {
     "data": {
      "text/plain": [
       "Array(10, dtype=int32)"
      ]
     },
     "execution_count": 7,
     "metadata": {},
     "output_type": "execute_result"
    }
   ],
   "source": [
    "i32_scalar = jax.ShapeDtypeStruct((), jnp.dtype('int32'))\n",
    "jax.jit(f).lower(i32_scalar, i32_scalar).compile()(x, y)"
   ]
  },
  {
   "cell_type": "code",
   "execution_count": 8,
   "metadata": {},
   "outputs": [
    {
     "ename": "TypeError",
     "evalue": "Argument types differ from the types for which this computation was compiled. The mismatches are:\nArgument 'x' compiled with int32[] and called with int32[3]\nArgument 'y' compiled with int32[] and called with int32[3]",
     "output_type": "error",
     "traceback": [
      "\u001b[0;31m---------------------------------------------------------------------------\u001b[0m",
      "\u001b[0;31mTypeError\u001b[0m                                 Traceback (most recent call last)",
      "Cell \u001b[0;32mIn[8], line 2\u001b[0m\n\u001b[1;32m      1\u001b[0m x_1d \u001b[38;5;241m=\u001b[39m y_1d \u001b[38;5;241m=\u001b[39m jnp\u001b[38;5;241m.\u001b[39marange(\u001b[38;5;241m3\u001b[39m)\n\u001b[0;32m----> 2\u001b[0m \u001b[43mjax\u001b[49m\u001b[38;5;241;43m.\u001b[39;49m\u001b[43mjit\u001b[49m\u001b[43m(\u001b[49m\u001b[43mf\u001b[49m\u001b[43m)\u001b[49m\u001b[38;5;241;43m.\u001b[39;49m\u001b[43mlower\u001b[49m\u001b[43m(\u001b[49m\u001b[43mi32_scalar\u001b[49m\u001b[43m,\u001b[49m\u001b[43m \u001b[49m\u001b[43mi32_scalar\u001b[49m\u001b[43m)\u001b[49m\u001b[38;5;241;43m.\u001b[39;49m\u001b[43mcompile\u001b[49m\u001b[43m(\u001b[49m\u001b[43m)\u001b[49m\u001b[43m(\u001b[49m\u001b[43mx_1d\u001b[49m\u001b[43m,\u001b[49m\u001b[43m \u001b[49m\u001b[43my_1d\u001b[49m\u001b[43m)\u001b[49m  \n",
      "File \u001b[0;32m~/Desktop/Code/VSCode/LearningJAX/.venv/lib/python3.12/site-packages/jax/_src/stages.py:575\u001b[0m, in \u001b[0;36mCompiled.__call__\u001b[0;34m(self, *args, **kwargs)\u001b[0m\n\u001b[1;32m    573\u001b[0m       \u001b[38;5;28;01mreturn\u001b[39;00m outs\n\u001b[1;32m    574\u001b[0m     \u001b[38;5;28mself\u001b[39m\u001b[38;5;241m.\u001b[39m_call \u001b[38;5;241m=\u001b[39m cpp_call_fallback\n\u001b[0;32m--> 575\u001b[0m \u001b[38;5;28;01mreturn\u001b[39;00m \u001b[38;5;28;43mself\u001b[39;49m\u001b[38;5;241;43m.\u001b[39;49m\u001b[43m_call\u001b[49m\u001b[43m(\u001b[49m\u001b[38;5;241;43m*\u001b[39;49m\u001b[43margs\u001b[49m\u001b[43m,\u001b[49m\u001b[43m \u001b[49m\u001b[38;5;241;43m*\u001b[39;49m\u001b[38;5;241;43m*\u001b[39;49m\u001b[43mkwargs\u001b[49m\u001b[43m)\u001b[49m\n",
      "File \u001b[0;32m~/Desktop/Code/VSCode/LearningJAX/.venv/lib/python3.12/site-packages/jax/_src/interpreters/pxla.py:2909\u001b[0m, in \u001b[0;36mMeshExecutable.create_cpp_call.<locals>.aot_cache_miss\u001b[0;34m(*args, **kwargs)\u001b[0m\n\u001b[1;32m   2907\u001b[0m \u001b[38;5;28;01mdef\u001b[39;00m \u001b[38;5;21maot_cache_miss\u001b[39m(\u001b[38;5;241m*\u001b[39margs, \u001b[38;5;241m*\u001b[39m\u001b[38;5;241m*\u001b[39mkwargs):\n\u001b[1;32m   2908\u001b[0m   params \u001b[38;5;241m=\u001b[39m stages\u001b[38;5;241m.\u001b[39mCompiledCallParams(\u001b[38;5;28mself\u001b[39m, no_kwargs, in_tree, out_tree)\n\u001b[0;32m-> 2909\u001b[0m   outs, out_flat, args_flat \u001b[38;5;241m=\u001b[39m \u001b[43mstages\u001b[49m\u001b[38;5;241;43m.\u001b[39;49m\u001b[43mCompiled\u001b[49m\u001b[38;5;241;43m.\u001b[39;49m\u001b[43mcall\u001b[49m\u001b[43m(\u001b[49m\u001b[43mparams\u001b[49m\u001b[43m,\u001b[49m\u001b[43m \u001b[49m\u001b[38;5;241;43m*\u001b[39;49m\u001b[43margs\u001b[49m\u001b[43m,\u001b[49m\u001b[43m \u001b[49m\u001b[38;5;241;43m*\u001b[39;49m\u001b[38;5;241;43m*\u001b[39;49m\u001b[43mkwargs\u001b[49m\u001b[43m)\u001b[49m\n\u001b[1;32m   2910\u001b[0m   out_flat, out_tree_dispatch \u001b[38;5;241m=\u001b[39m reflatten_outputs_for_dispatch(\n\u001b[1;32m   2911\u001b[0m       out_tree, out_flat)\n\u001b[1;32m   2912\u001b[0m   use_fastpath \u001b[38;5;241m=\u001b[39m (\u001b[38;5;28mall\u001b[39m(\u001b[38;5;28misinstance\u001b[39m(x, xc\u001b[38;5;241m.\u001b[39mArrayImpl) \u001b[38;5;28;01mfor\u001b[39;00m x \u001b[38;5;129;01min\u001b[39;00m out_flat))\n",
      "File \u001b[0;32m~/Desktop/Code/VSCode/LearningJAX/.venv/lib/python3.12/site-packages/jax/_src/stages.py:544\u001b[0m, in \u001b[0;36mCompiled.call\u001b[0;34m(*args, **kwargs)\u001b[0m\n\u001b[1;32m    541\u001b[0m   \u001b[38;5;28;01mraise\u001b[39;00m \u001b[38;5;167;01mTypeError\u001b[39;00m(\n\u001b[1;32m    542\u001b[0m       \u001b[38;5;124mf\u001b[39m\u001b[38;5;124m\"\u001b[39m\u001b[38;5;124mfunction compiled for \u001b[39m\u001b[38;5;132;01m{\u001b[39;00mparams\u001b[38;5;241m.\u001b[39min_tree\u001b[38;5;132;01m}\u001b[39;00m\u001b[38;5;124m, called with \u001b[39m\u001b[38;5;132;01m{\u001b[39;00min_tree\u001b[38;5;132;01m}\u001b[39;00m\u001b[38;5;124m\"\u001b[39m)\n\u001b[1;32m    543\u001b[0m \u001b[38;5;28;01mtry\u001b[39;00m:\n\u001b[0;32m--> 544\u001b[0m   out_flat \u001b[38;5;241m=\u001b[39m \u001b[43mparams\u001b[49m\u001b[38;5;241;43m.\u001b[39;49m\u001b[43mexecutable\u001b[49m\u001b[38;5;241;43m.\u001b[39;49m\u001b[43mcall\u001b[49m\u001b[43m(\u001b[49m\u001b[38;5;241;43m*\u001b[39;49m\u001b[43margs_flat\u001b[49m\u001b[43m)\u001b[49m\n\u001b[1;32m    545\u001b[0m \u001b[38;5;28;01mexcept\u001b[39;00m \u001b[38;5;167;01mTypeError\u001b[39;00m \u001b[38;5;28;01mas\u001b[39;00m e:\n\u001b[1;32m    546\u001b[0m   \u001b[38;5;66;03m# We can't transform ahead-of-time compiled calls, since we've\u001b[39;00m\n\u001b[1;32m    547\u001b[0m   \u001b[38;5;66;03m# lowered and compiled for a fixed function signature, and JAX\u001b[39;00m\n\u001b[0;32m   (...)\u001b[0m\n\u001b[1;32m    552\u001b[0m   \u001b[38;5;66;03m# might mean that arguments have JAX-invalid types, which in\u001b[39;00m\n\u001b[1;32m    553\u001b[0m   \u001b[38;5;66;03m# turn might mean some are Tracers.\u001b[39;00m\n\u001b[1;32m    554\u001b[0m   \u001b[38;5;28;01mfor\u001b[39;00m arg \u001b[38;5;129;01min\u001b[39;00m args_flat:\n",
      "File \u001b[0;32m~/Desktop/Code/VSCode/LearningJAX/.venv/lib/python3.12/site-packages/jax/_src/interpreters/pxla.py:2884\u001b[0m, in \u001b[0;36mMeshExecutable.call\u001b[0;34m(self, *args)\u001b[0m\n\u001b[1;32m   2881\u001b[0m   debug_info \u001b[38;5;241m=\u001b[39m \u001b[38;5;28mself\u001b[39m\u001b[38;5;241m.\u001b[39m_all_args_info\u001b[38;5;241m.\u001b[39mdebug_info\n\u001b[1;32m   2883\u001b[0m arg_avals \u001b[38;5;241m=\u001b[39m \u001b[38;5;28mmap\u001b[39m(xla\u001b[38;5;241m.\u001b[39mabstractify, kept_args)\n\u001b[0;32m-> 2884\u001b[0m \u001b[43mcheck_arg_avals_for_call\u001b[49m\u001b[43m(\u001b[49m\u001b[43mref_avals\u001b[49m\u001b[43m,\u001b[49m\u001b[43m \u001b[49m\u001b[43marg_avals\u001b[49m\u001b[43m,\u001b[49m\u001b[43m \u001b[49m\u001b[43mdebug_info\u001b[49m\u001b[43m)\u001b[49m\n\u001b[1;32m   2885\u001b[0m \u001b[38;5;66;03m# Check the GDA sharding and the input sharding.\u001b[39;00m\n\u001b[1;32m   2886\u001b[0m check_gda_or_array_xla_sharding_match(kept_args, in_shardings, debug_info)\n",
      "File \u001b[0;32m~/Desktop/Code/VSCode/LearningJAX/.venv/lib/python3.12/site-packages/jax/_src/interpreters/pxla.py:2969\u001b[0m, in \u001b[0;36mcheck_arg_avals_for_call\u001b[0;34m(ref_avals, arg_avals, jaxpr_debug_info)\u001b[0m\n\u001b[1;32m   2967\u001b[0m \u001b[38;5;28;01melse\u001b[39;00m:\n\u001b[1;32m   2968\u001b[0m   num_mismatch_str \u001b[38;5;241m=\u001b[39m \u001b[38;5;124m\"\u001b[39m\u001b[38;5;124mThe\u001b[39m\u001b[38;5;124m\"\u001b[39m\n\u001b[0;32m-> 2969\u001b[0m \u001b[38;5;28;01mraise\u001b[39;00m \u001b[38;5;167;01mTypeError\u001b[39;00m(\n\u001b[1;32m   2970\u001b[0m     \u001b[38;5;124m\"\u001b[39m\u001b[38;5;124mArgument types differ from the types for which this computation was \u001b[39m\u001b[38;5;124m\"\u001b[39m\n\u001b[1;32m   2971\u001b[0m     \u001b[38;5;124mf\u001b[39m\u001b[38;5;124m\"\u001b[39m\u001b[38;5;124mcompiled. \u001b[39m\u001b[38;5;132;01m{\u001b[39;00mnum_mismatch_str\u001b[38;5;132;01m}\u001b[39;00m\u001b[38;5;124m mismatches are:\u001b[39m\u001b[38;5;130;01m\\n\u001b[39;00m\u001b[38;5;132;01m{\u001b[39;00mstr_errors\u001b[38;5;132;01m}\u001b[39;00m\u001b[38;5;124m\"\u001b[39m)\n",
      "\u001b[0;31mTypeError\u001b[0m: Argument types differ from the types for which this computation was compiled. The mismatches are:\nArgument 'x' compiled with int32[] and called with int32[3]\nArgument 'y' compiled with int32[] and called with int32[3]"
     ]
    }
   ],
   "source": [
    "x_1d = y_1d = jnp.arange(3)\n",
    "jax.jit(f).lower(i32_scalar, i32_scalar).compile()(x_1d, y_1d)  "
   ]
  },
  {
   "cell_type": "code",
   "execution_count": 9,
   "metadata": {},
   "outputs": [
    {
     "ename": "TypeError",
     "evalue": "Argument types differ from the types for which this computation was compiled. The mismatches are:\nArgument 'x' compiled with int32[] and called with float32[]\nArgument 'y' compiled with int32[] and called with float32[]",
     "output_type": "error",
     "traceback": [
      "\u001b[0;31m---------------------------------------------------------------------------\u001b[0m",
      "\u001b[0;31mTypeError\u001b[0m                                 Traceback (most recent call last)",
      "Cell \u001b[0;32mIn[9], line 2\u001b[0m\n\u001b[1;32m      1\u001b[0m x_f \u001b[38;5;241m=\u001b[39m y_f \u001b[38;5;241m=\u001b[39m jnp\u001b[38;5;241m.\u001b[39mfloat32(\u001b[38;5;241m72.\u001b[39m)\n\u001b[0;32m----> 2\u001b[0m \u001b[43mjax\u001b[49m\u001b[38;5;241;43m.\u001b[39;49m\u001b[43mjit\u001b[49m\u001b[43m(\u001b[49m\u001b[43mf\u001b[49m\u001b[43m)\u001b[49m\u001b[38;5;241;43m.\u001b[39;49m\u001b[43mlower\u001b[49m\u001b[43m(\u001b[49m\u001b[43mi32_scalar\u001b[49m\u001b[43m,\u001b[49m\u001b[43m \u001b[49m\u001b[43mi32_scalar\u001b[49m\u001b[43m)\u001b[49m\u001b[38;5;241;43m.\u001b[39;49m\u001b[43mcompile\u001b[49m\u001b[43m(\u001b[49m\u001b[43m)\u001b[49m\u001b[43m(\u001b[49m\u001b[43mx_f\u001b[49m\u001b[43m,\u001b[49m\u001b[43m \u001b[49m\u001b[43my_f\u001b[49m\u001b[43m)\u001b[49m  \n",
      "File \u001b[0;32m~/Desktop/Code/VSCode/LearningJAX/.venv/lib/python3.12/site-packages/jax/_src/stages.py:575\u001b[0m, in \u001b[0;36mCompiled.__call__\u001b[0;34m(self, *args, **kwargs)\u001b[0m\n\u001b[1;32m    573\u001b[0m       \u001b[38;5;28;01mreturn\u001b[39;00m outs\n\u001b[1;32m    574\u001b[0m     \u001b[38;5;28mself\u001b[39m\u001b[38;5;241m.\u001b[39m_call \u001b[38;5;241m=\u001b[39m cpp_call_fallback\n\u001b[0;32m--> 575\u001b[0m \u001b[38;5;28;01mreturn\u001b[39;00m \u001b[38;5;28;43mself\u001b[39;49m\u001b[38;5;241;43m.\u001b[39;49m\u001b[43m_call\u001b[49m\u001b[43m(\u001b[49m\u001b[38;5;241;43m*\u001b[39;49m\u001b[43margs\u001b[49m\u001b[43m,\u001b[49m\u001b[43m \u001b[49m\u001b[38;5;241;43m*\u001b[39;49m\u001b[38;5;241;43m*\u001b[39;49m\u001b[43mkwargs\u001b[49m\u001b[43m)\u001b[49m\n",
      "File \u001b[0;32m~/Desktop/Code/VSCode/LearningJAX/.venv/lib/python3.12/site-packages/jax/_src/interpreters/pxla.py:2909\u001b[0m, in \u001b[0;36mMeshExecutable.create_cpp_call.<locals>.aot_cache_miss\u001b[0;34m(*args, **kwargs)\u001b[0m\n\u001b[1;32m   2907\u001b[0m \u001b[38;5;28;01mdef\u001b[39;00m \u001b[38;5;21maot_cache_miss\u001b[39m(\u001b[38;5;241m*\u001b[39margs, \u001b[38;5;241m*\u001b[39m\u001b[38;5;241m*\u001b[39mkwargs):\n\u001b[1;32m   2908\u001b[0m   params \u001b[38;5;241m=\u001b[39m stages\u001b[38;5;241m.\u001b[39mCompiledCallParams(\u001b[38;5;28mself\u001b[39m, no_kwargs, in_tree, out_tree)\n\u001b[0;32m-> 2909\u001b[0m   outs, out_flat, args_flat \u001b[38;5;241m=\u001b[39m \u001b[43mstages\u001b[49m\u001b[38;5;241;43m.\u001b[39;49m\u001b[43mCompiled\u001b[49m\u001b[38;5;241;43m.\u001b[39;49m\u001b[43mcall\u001b[49m\u001b[43m(\u001b[49m\u001b[43mparams\u001b[49m\u001b[43m,\u001b[49m\u001b[43m \u001b[49m\u001b[38;5;241;43m*\u001b[39;49m\u001b[43margs\u001b[49m\u001b[43m,\u001b[49m\u001b[43m \u001b[49m\u001b[38;5;241;43m*\u001b[39;49m\u001b[38;5;241;43m*\u001b[39;49m\u001b[43mkwargs\u001b[49m\u001b[43m)\u001b[49m\n\u001b[1;32m   2910\u001b[0m   out_flat, out_tree_dispatch \u001b[38;5;241m=\u001b[39m reflatten_outputs_for_dispatch(\n\u001b[1;32m   2911\u001b[0m       out_tree, out_flat)\n\u001b[1;32m   2912\u001b[0m   use_fastpath \u001b[38;5;241m=\u001b[39m (\u001b[38;5;28mall\u001b[39m(\u001b[38;5;28misinstance\u001b[39m(x, xc\u001b[38;5;241m.\u001b[39mArrayImpl) \u001b[38;5;28;01mfor\u001b[39;00m x \u001b[38;5;129;01min\u001b[39;00m out_flat))\n",
      "File \u001b[0;32m~/Desktop/Code/VSCode/LearningJAX/.venv/lib/python3.12/site-packages/jax/_src/stages.py:544\u001b[0m, in \u001b[0;36mCompiled.call\u001b[0;34m(*args, **kwargs)\u001b[0m\n\u001b[1;32m    541\u001b[0m   \u001b[38;5;28;01mraise\u001b[39;00m \u001b[38;5;167;01mTypeError\u001b[39;00m(\n\u001b[1;32m    542\u001b[0m       \u001b[38;5;124mf\u001b[39m\u001b[38;5;124m\"\u001b[39m\u001b[38;5;124mfunction compiled for \u001b[39m\u001b[38;5;132;01m{\u001b[39;00mparams\u001b[38;5;241m.\u001b[39min_tree\u001b[38;5;132;01m}\u001b[39;00m\u001b[38;5;124m, called with \u001b[39m\u001b[38;5;132;01m{\u001b[39;00min_tree\u001b[38;5;132;01m}\u001b[39;00m\u001b[38;5;124m\"\u001b[39m)\n\u001b[1;32m    543\u001b[0m \u001b[38;5;28;01mtry\u001b[39;00m:\n\u001b[0;32m--> 544\u001b[0m   out_flat \u001b[38;5;241m=\u001b[39m \u001b[43mparams\u001b[49m\u001b[38;5;241;43m.\u001b[39;49m\u001b[43mexecutable\u001b[49m\u001b[38;5;241;43m.\u001b[39;49m\u001b[43mcall\u001b[49m\u001b[43m(\u001b[49m\u001b[38;5;241;43m*\u001b[39;49m\u001b[43margs_flat\u001b[49m\u001b[43m)\u001b[49m\n\u001b[1;32m    545\u001b[0m \u001b[38;5;28;01mexcept\u001b[39;00m \u001b[38;5;167;01mTypeError\u001b[39;00m \u001b[38;5;28;01mas\u001b[39;00m e:\n\u001b[1;32m    546\u001b[0m   \u001b[38;5;66;03m# We can't transform ahead-of-time compiled calls, since we've\u001b[39;00m\n\u001b[1;32m    547\u001b[0m   \u001b[38;5;66;03m# lowered and compiled for a fixed function signature, and JAX\u001b[39;00m\n\u001b[0;32m   (...)\u001b[0m\n\u001b[1;32m    552\u001b[0m   \u001b[38;5;66;03m# might mean that arguments have JAX-invalid types, which in\u001b[39;00m\n\u001b[1;32m    553\u001b[0m   \u001b[38;5;66;03m# turn might mean some are Tracers.\u001b[39;00m\n\u001b[1;32m    554\u001b[0m   \u001b[38;5;28;01mfor\u001b[39;00m arg \u001b[38;5;129;01min\u001b[39;00m args_flat:\n",
      "File \u001b[0;32m~/Desktop/Code/VSCode/LearningJAX/.venv/lib/python3.12/site-packages/jax/_src/interpreters/pxla.py:2884\u001b[0m, in \u001b[0;36mMeshExecutable.call\u001b[0;34m(self, *args)\u001b[0m\n\u001b[1;32m   2881\u001b[0m   debug_info \u001b[38;5;241m=\u001b[39m \u001b[38;5;28mself\u001b[39m\u001b[38;5;241m.\u001b[39m_all_args_info\u001b[38;5;241m.\u001b[39mdebug_info\n\u001b[1;32m   2883\u001b[0m arg_avals \u001b[38;5;241m=\u001b[39m \u001b[38;5;28mmap\u001b[39m(xla\u001b[38;5;241m.\u001b[39mabstractify, kept_args)\n\u001b[0;32m-> 2884\u001b[0m \u001b[43mcheck_arg_avals_for_call\u001b[49m\u001b[43m(\u001b[49m\u001b[43mref_avals\u001b[49m\u001b[43m,\u001b[49m\u001b[43m \u001b[49m\u001b[43marg_avals\u001b[49m\u001b[43m,\u001b[49m\u001b[43m \u001b[49m\u001b[43mdebug_info\u001b[49m\u001b[43m)\u001b[49m\n\u001b[1;32m   2885\u001b[0m \u001b[38;5;66;03m# Check the GDA sharding and the input sharding.\u001b[39;00m\n\u001b[1;32m   2886\u001b[0m check_gda_or_array_xla_sharding_match(kept_args, in_shardings, debug_info)\n",
      "File \u001b[0;32m~/Desktop/Code/VSCode/LearningJAX/.venv/lib/python3.12/site-packages/jax/_src/interpreters/pxla.py:2969\u001b[0m, in \u001b[0;36mcheck_arg_avals_for_call\u001b[0;34m(ref_avals, arg_avals, jaxpr_debug_info)\u001b[0m\n\u001b[1;32m   2967\u001b[0m \u001b[38;5;28;01melse\u001b[39;00m:\n\u001b[1;32m   2968\u001b[0m   num_mismatch_str \u001b[38;5;241m=\u001b[39m \u001b[38;5;124m\"\u001b[39m\u001b[38;5;124mThe\u001b[39m\u001b[38;5;124m\"\u001b[39m\n\u001b[0;32m-> 2969\u001b[0m \u001b[38;5;28;01mraise\u001b[39;00m \u001b[38;5;167;01mTypeError\u001b[39;00m(\n\u001b[1;32m   2970\u001b[0m     \u001b[38;5;124m\"\u001b[39m\u001b[38;5;124mArgument types differ from the types for which this computation was \u001b[39m\u001b[38;5;124m\"\u001b[39m\n\u001b[1;32m   2971\u001b[0m     \u001b[38;5;124mf\u001b[39m\u001b[38;5;124m\"\u001b[39m\u001b[38;5;124mcompiled. \u001b[39m\u001b[38;5;132;01m{\u001b[39;00mnum_mismatch_str\u001b[38;5;132;01m}\u001b[39;00m\u001b[38;5;124m mismatches are:\u001b[39m\u001b[38;5;130;01m\\n\u001b[39;00m\u001b[38;5;132;01m{\u001b[39;00mstr_errors\u001b[38;5;132;01m}\u001b[39;00m\u001b[38;5;124m\"\u001b[39m)\n",
      "\u001b[0;31mTypeError\u001b[0m: Argument types differ from the types for which this computation was compiled. The mismatches are:\nArgument 'x' compiled with int32[] and called with float32[]\nArgument 'y' compiled with int32[] and called with float32[]"
     ]
    }
   ],
   "source": [
    "x_f = y_f = jnp.float32(72.)\n",
    "jax.jit(f).lower(i32_scalar, i32_scalar).compile()(x_f, y_f)  "
   ]
  },
  {
   "cell_type": "code",
   "execution_count": 12,
   "metadata": {},
   "outputs": [
    {
     "name": "stdout",
     "output_type": "stream",
     "text": [
      "module @jit_f attributes {mhlo.num_partitions = 1 : i32, mhlo.num_replicas = 1 : i32} {\n",
      "  func.func public @main(%arg0: tensor<i32> {mhlo.layout_mode = \"default\", mhlo.sharding = \"{replicated}\"}) -> (tensor<i32> {jax.result_info = \"\", mhlo.layout_mode = \"default\"}) {\n",
      "    %0 = stablehlo.constant dense<14> : tensor<i32>\n",
      "    %1 = stablehlo.add %0, %arg0 : tensor<i32>\n",
      "    return %1 : tensor<i32>\n",
      "  }\n",
      "}\n",
      "\n"
     ]
    },
    {
     "data": {
      "text/plain": [
       "Array(19, dtype=int32, weak_type=True)"
      ]
     },
     "execution_count": 12,
     "metadata": {},
     "output_type": "execute_result"
    }
   ],
   "source": [
    "lowered_with_x = jax.jit(f, static_argnums=0).lower(7, 8)\n",
    "# Lowered HLO, specialized to the *value* of the first argument (7)\n",
    "print(lowered_with_x.as_text())\n",
    "lowered_with_x.compile()(5)\n"
   ]
  },
  {
   "cell_type": "code",
   "execution_count": 13,
   "metadata": {},
   "outputs": [
    {
     "ename": "TypeError",
     "evalue": "unsupported operand type(s) for *: 'int' and 'ShapeDtypeStruct'",
     "output_type": "error",
     "traceback": [
      "\u001b[0;31m---------------------------------------------------------------------------\u001b[0m",
      "\u001b[0;31mTypeError\u001b[0m                                 Traceback (most recent call last)",
      "Cell \u001b[0;32mIn[13], line 1\u001b[0m\n\u001b[0;32m----> 1\u001b[0m \u001b[43mjax\u001b[49m\u001b[38;5;241;43m.\u001b[39;49m\u001b[43mjit\u001b[49m\u001b[43m(\u001b[49m\u001b[43mf\u001b[49m\u001b[43m,\u001b[49m\u001b[43m \u001b[49m\u001b[43mstatic_argnums\u001b[49m\u001b[38;5;241;43m=\u001b[39;49m\u001b[38;5;241;43m0\u001b[39;49m\u001b[43m)\u001b[49m\u001b[38;5;241;43m.\u001b[39;49m\u001b[43mlower\u001b[49m\u001b[43m(\u001b[49m\u001b[43mi32_scalar\u001b[49m\u001b[43m,\u001b[49m\u001b[43m \u001b[49m\u001b[43mi32_scalar\u001b[49m\u001b[43m)\u001b[49m\n",
      "    \u001b[0;31m[... skipping hidden 11 frame]\u001b[0m\n",
      "Cell \u001b[0;32mIn[6], line 4\u001b[0m, in \u001b[0;36mf\u001b[0;34m(x, y)\u001b[0m\n\u001b[0;32m----> 4\u001b[0m \u001b[38;5;28;01mdef\u001b[39;00m \u001b[38;5;21mf\u001b[39m(x, y): \u001b[38;5;28;01mreturn\u001b[39;00m \u001b[38;5;241;43m2\u001b[39;49m\u001b[43m \u001b[49m\u001b[38;5;241;43m*\u001b[39;49m\u001b[43m \u001b[49m\u001b[43mx\u001b[49m \u001b[38;5;241m+\u001b[39m y\n",
      "\u001b[0;31mTypeError\u001b[0m: unsupported operand type(s) for *: 'int' and 'ShapeDtypeStruct'"
     ]
    }
   ],
   "source": [
    "jax.jit(f, static_argnums=0).lower(i32_scalar, i32_scalar)"
   ]
  },
  {
   "cell_type": "code",
   "execution_count": 14,
   "metadata": {},
   "outputs": [
    {
     "data": {
      "text/plain": [
       "Array(25, dtype=int32)"
      ]
     },
     "execution_count": 14,
     "metadata": {},
     "output_type": "execute_result"
    }
   ],
   "source": [
    "jax.jit(f, static_argnums=0).lower(10, i32_scalar).compile()(5)"
   ]
  },
  {
   "cell_type": "code",
   "execution_count": null,
   "metadata": {},
   "outputs": [],
   "source": []
  }
 ],
 "metadata": {
  "kernelspec": {
   "display_name": ".venv",
   "language": "python",
   "name": "python3"
  },
  "language_info": {
   "codemirror_mode": {
    "name": "ipython",
    "version": 3
   },
   "file_extension": ".py",
   "mimetype": "text/x-python",
   "name": "python",
   "nbconvert_exporter": "python",
   "pygments_lexer": "ipython3",
   "version": "3.12.4"
  }
 },
 "nbformat": 4,
 "nbformat_minor": 2
}
