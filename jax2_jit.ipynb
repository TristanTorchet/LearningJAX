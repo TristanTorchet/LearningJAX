{
 "cells": [
  {
   "cell_type": "code",
   "execution_count": 1,
   "metadata": {},
   "outputs": [
    {
     "name": "stdout",
     "output_type": "stream",
     "text": [
      "/Users/tristantorchet/Desktop/Code/VSCode/LearningJAX/.venv/bin/python\n"
     ]
    }
   ],
   "source": [
    "!which python"
   ]
  },
  {
   "cell_type": "markdown",
   "metadata": {},
   "source": [
    "# 1. Asynchronous Dispatch"
   ]
  },
  {
   "cell_type": "code",
   "execution_count": 2,
   "metadata": {},
   "outputs": [
    {
     "data": {
      "text/plain": [
       "Array([[258.0197 , 249.64864, 257.13373, ..., 236.67952, 250.68939,\n",
       "        241.36853],\n",
       "       [265.65982, 256.28915, 262.18246, ..., 242.03183, 256.16754,\n",
       "        252.44124],\n",
       "       [262.38916, 255.72754, 261.2306 , ..., 240.83559, 255.41093,\n",
       "        249.62468],\n",
       "       ...,\n",
       "       [259.1581 , 253.092  , 257.72174, ..., 242.23874, 250.72684,\n",
       "        247.16638],\n",
       "       [271.22662, 261.91205, 265.33398, ..., 248.26648, 262.0539 ,\n",
       "        261.337  ],\n",
       "       [257.16138, 254.7543 , 259.083  , ..., 241.59848, 248.62595,\n",
       "        243.22354]], dtype=float32)"
      ]
     },
     "execution_count": 2,
     "metadata": {},
     "output_type": "execute_result"
    }
   ],
   "source": [
    "import numpy as np\n",
    "import jax.numpy as jnp\n",
    "from jax import random\n",
    "x = random.uniform(random.key(0), (1000, 1000))\n",
    "# Printing the result (i.e. evaluating `repr(result)` or `str(result)`)\n",
    "# will block until the value is ready.\n",
    "jnp.dot(x, x) + 3.  "
   ]
  },
  {
   "cell_type": "markdown",
   "metadata": {},
   "source": [
    "If you run the following cells on GPU you will see a really short Wall time (100's of us) if you don't use the blocking while a long one (10's of ms) if you use the blocking.\n",
    "\n",
    "On CPU it doesn't matter."
   ]
  },
  {
   "cell_type": "code",
   "execution_count": 3,
   "metadata": {},
   "outputs": [
    {
     "name": "stdout",
     "output_type": "stream",
     "text": [
      "CPU times: user 47.3 ms, sys: 8.07 ms, total: 55.4 ms\n",
      "Wall time: 9.76 ms\n"
     ]
    },
    {
     "data": {
      "text/plain": [
       "Array([[255.01973, 246.64864, 254.13373, ..., 233.67952, 247.68939,\n",
       "        238.36853],\n",
       "       [262.65982, 253.28915, 259.18246, ..., 239.03183, 253.16756,\n",
       "        249.44124],\n",
       "       [259.38916, 252.72754, 258.2306 , ..., 237.83559, 252.41093,\n",
       "        246.62468],\n",
       "       ...,\n",
       "       [256.1581 , 250.092  , 254.72174, ..., 239.23874, 247.72684,\n",
       "        244.16638],\n",
       "       [268.22662, 258.91205, 262.33398, ..., 245.26648, 259.0539 ,\n",
       "        258.337  ],\n",
       "       [254.16138, 251.7543 , 256.083  , ..., 238.59848, 245.62595,\n",
       "        240.22354]], dtype=float32)"
      ]
     },
     "execution_count": 3,
     "metadata": {},
     "output_type": "execute_result"
    }
   ],
   "source": [
    "%time jnp.dot(x, x) "
   ]
  },
  {
   "cell_type": "code",
   "execution_count": 4,
   "metadata": {},
   "outputs": [
    {
     "name": "stdout",
     "output_type": "stream",
     "text": [
      "CPU times: user 46.1 ms, sys: 2.5 ms, total: 48.6 ms\n",
      "Wall time: 7.14 ms\n"
     ]
    },
    {
     "data": {
      "text/plain": [
       "array([[255.01973, 246.64864, 254.13373, ..., 233.67952, 247.68939,\n",
       "        238.36853],\n",
       "       [262.65982, 253.28915, 259.18246, ..., 239.03183, 253.16756,\n",
       "        249.44124],\n",
       "       [259.38916, 252.72754, 258.2306 , ..., 237.83559, 252.41093,\n",
       "        246.62468],\n",
       "       ...,\n",
       "       [256.1581 , 250.092  , 254.72174, ..., 239.23874, 247.72684,\n",
       "        244.16638],\n",
       "       [268.22662, 258.91205, 262.33398, ..., 245.26648, 259.0539 ,\n",
       "        258.337  ],\n",
       "       [254.16138, 251.7543 , 256.083  , ..., 238.59848, 245.62595,\n",
       "        240.22354]], dtype=float32)"
      ]
     },
     "execution_count": 4,
     "metadata": {},
     "output_type": "execute_result"
    }
   ],
   "source": [
    "%time np.asarray(jnp.dot(x, x))  "
   ]
  },
  {
   "cell_type": "code",
   "execution_count": 5,
   "metadata": {},
   "outputs": [
    {
     "name": "stdout",
     "output_type": "stream",
     "text": [
      "CPU times: user 48.6 ms, sys: 6.96 ms, total: 55.5 ms\n",
      "Wall time: 8.31 ms\n"
     ]
    },
    {
     "data": {
      "text/plain": [
       "Array([[255.01973, 246.64864, 254.13373, ..., 233.67952, 247.68939,\n",
       "        238.36853],\n",
       "       [262.65982, 253.28915, 259.18246, ..., 239.03183, 253.16756,\n",
       "        249.44124],\n",
       "       [259.38916, 252.72754, 258.2306 , ..., 237.83559, 252.41093,\n",
       "        246.62468],\n",
       "       ...,\n",
       "       [256.1581 , 250.092  , 254.72174, ..., 239.23874, 247.72684,\n",
       "        244.16638],\n",
       "       [268.22662, 258.91205, 262.33398, ..., 245.26648, 259.0539 ,\n",
       "        258.337  ],\n",
       "       [254.16138, 251.7543 , 256.083  , ..., 238.59848, 245.62595,\n",
       "        240.22354]], dtype=float32)"
      ]
     },
     "execution_count": 5,
     "metadata": {},
     "output_type": "execute_result"
    }
   ],
   "source": [
    "%time jnp.dot(x, x).block_until_ready()"
   ]
  },
  {
   "cell_type": "code",
   "execution_count": null,
   "metadata": {},
   "outputs": [],
   "source": []
  },
  {
   "cell_type": "code",
   "execution_count": null,
   "metadata": {},
   "outputs": [],
   "source": []
  }
 ],
 "metadata": {
  "kernelspec": {
   "display_name": ".venv",
   "language": "python",
   "name": "python3"
  },
  "language_info": {
   "codemirror_mode": {
    "name": "ipython",
    "version": 3
   },
   "file_extension": ".py",
   "mimetype": "text/x-python",
   "name": "python",
   "nbconvert_exporter": "python",
   "pygments_lexer": "ipython3",
   "version": "3.12.4"
  }
 },
 "nbformat": 4,
 "nbformat_minor": 2
}
