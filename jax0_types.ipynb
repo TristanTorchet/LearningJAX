{
 "cells": [
  {
   "cell_type": "code",
   "execution_count": 2,
   "metadata": {},
   "outputs": [],
   "source": [
    "import jax \n",
    "import jax.numpy as jnp\n",
    "import numpy as np"
   ]
  },
  {
   "cell_type": "markdown",
   "metadata": {},
   "source": [
    "# 1. ```jax.Array``` and ```jax.numpy.ndarray``` are the same thing and represented by ```jaxlib.xla_extension.ArrayImpl```"
   ]
  },
  {
   "cell_type": "code",
   "execution_count": 6,
   "metadata": {},
   "outputs": [
    {
     "name": "stdout",
     "output_type": "stream",
     "text": [
      "<class 'jaxlib.xla_extension.ArrayImpl'>\n",
      "<class 'jaxlib.xla_extension.ArrayImpl'>\n",
      "<class 'numpy.ndarray'>\n",
      "True\n",
      "True\n",
      "True\n",
      "True\n"
     ]
    }
   ],
   "source": [
    "x = jax.random.normal(jax.random.PRNGKey(0), (5,))\n",
    "x_jnp = jnp.array([1, 2, 3])\n",
    "x_np = np.array([1, 2, 3])\n",
    "print(type(x))\n",
    "print(type(x_jnp))\n",
    "print(type(x_np))\n",
    "print(isinstance(x, jnp.ndarray))\n",
    "print(isinstance(x, jax.Array))\n",
    "print(isinstance(x_jnp, jnp.ndarray))\n",
    "print(isinstance(x_jnp, jax.Array))"
   ]
  },
  {
   "cell_type": "markdown",
   "metadata": {},
   "source": [
    "## 1.1. ```jnp.ndarray``` is just an allias for ```jax.Array```. [JAX official doc](https://jax.readthedocs.io/en/latest/_autosummary/jax.numpy.ndarray.html)\n",
    "## 1.2. ```jax.Array``` seems to be built directly from ```object``` (i.e ```jax.Array(object)``` )"
   ]
  },
  {
   "cell_type": "code",
   "execution_count": 15,
   "metadata": {},
   "outputs": [
    {
     "name": "stdout",
     "output_type": "stream",
     "text": [
      "<class 'jaxlib.xla_extension.ArrayImpl'>\n",
      "(<class 'object'>,)\n",
      "(<class 'object'>,)\n"
     ]
    }
   ],
   "source": [
    "print(type(x_jnp))\n",
    "print(type(x_jnp).__bases__)\n",
    "print(type(x).__bases__)"
   ]
  },
  {
   "cell_type": "markdown",
   "metadata": {},
   "source": [
    "# 2. Shapes"
   ]
  },
  {
   "cell_type": "code",
   "execution_count": 17,
   "metadata": {},
   "outputs": [
    {
     "name": "stdout",
     "output_type": "stream",
     "text": [
      "a.shape=(3,)\n",
      "a[0].shape=()\n",
      "jnp.array(a[0]).shape=()\n",
      "jnp.expand_dims(a[0], axis=0).shape=(1,)\n",
      "b.shape=(1,)\n",
      "b[0].shape=()\n"
     ]
    }
   ],
   "source": [
    "a = jnp.array([1, 2, 3])\n",
    "b = jnp.zeros((1,))\n",
    "\n",
    "print(f'{a.shape=}')\n",
    "print(f'{a[0].shape=}')\n",
    "print(f'{jnp.array(a[0]).shape=}')\n",
    "print(f'{jnp.expand_dims(a[0], axis=0).shape=}')\n",
    "print(f'{b.shape=}')\n",
    "print(f'{b[0].shape=}')"
   ]
  },
  {
   "cell_type": "code",
   "execution_count": null,
   "metadata": {},
   "outputs": [],
   "source": []
  },
  {
   "cell_type": "code",
   "execution_count": null,
   "metadata": {},
   "outputs": [],
   "source": []
  },
  {
   "cell_type": "markdown",
   "metadata": {},
   "source": []
  }
 ],
 "metadata": {
  "kernelspec": {
   "display_name": ".venv",
   "language": "python",
   "name": "python3"
  },
  "language_info": {
   "codemirror_mode": {
    "name": "ipython",
    "version": 3
   },
   "file_extension": ".py",
   "mimetype": "text/x-python",
   "name": "python",
   "nbconvert_exporter": "python",
   "pygments_lexer": "ipython3",
   "version": "3.12.4"
  }
 },
 "nbformat": 4,
 "nbformat_minor": 2
}
