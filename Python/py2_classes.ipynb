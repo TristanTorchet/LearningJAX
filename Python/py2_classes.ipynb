{
 "cells": [
  {
   "cell_type": "code",
   "execution_count": 2,
   "metadata": {},
   "outputs": [],
   "source": [
    "import jax"
   ]
  },
  {
   "cell_type": "markdown",
   "metadata": {},
   "source": [
    "# 1. Abstract method to enforce overloading of certain functions"
   ]
  },
  {
   "cell_type": "code",
   "execution_count": 3,
   "metadata": {},
   "outputs": [
    {
     "ename": "TypeError",
     "evalue": "Can't instantiate abstract class AbstractLayer without an implementation for abstract method '__call__'",
     "output_type": "error",
     "traceback": [
      "\u001b[0;31m---------------------------------------------------------------------------\u001b[0m",
      "\u001b[0;31mTypeError\u001b[0m                                 Traceback (most recent call last)",
      "Cell \u001b[0;32mIn[3], line 12\u001b[0m\n\u001b[1;32m      8\u001b[0m     \u001b[38;5;129m@abstractmethod\u001b[39m\n\u001b[1;32m      9\u001b[0m     \u001b[38;5;28;01mdef\u001b[39;00m \u001b[38;5;21m__call__\u001b[39m(\u001b[38;5;28mself\u001b[39m, x):\n\u001b[1;32m     10\u001b[0m         \u001b[38;5;28;01mpass\u001b[39;00m\n\u001b[0;32m---> 12\u001b[0m layer \u001b[38;5;241m=\u001b[39m \u001b[43mAbstractLayer\u001b[49m\u001b[43m(\u001b[49m\u001b[43m)\u001b[49m \u001b[38;5;66;03m# this will raise an error\u001b[39;00m\n",
      "\u001b[0;31mTypeError\u001b[0m: Can't instantiate abstract class AbstractLayer without an implementation for abstract method '__call__'"
     ]
    }
   ],
   "source": [
    "# create a dummy model as a ABC class with dataclass\n",
    "from abc import ABC, abstractmethod\n",
    "\n",
    "# AbstractLayer is an abstract class which cannot be instantiated\n",
    "# ABC classes with abstract methods insure that all subclasses implement the abstract methods\n",
    "# (It doesn't make sense to use the @dataclass decorator with an ABC class)\n",
    "class AbstractLayer(ABC):\n",
    "    @abstractmethod\n",
    "    def __call__(self, x):\n",
    "        pass\n",
    "\n",
    "layer = AbstractLayer() # this will raise an error"
   ]
  },
  {
   "cell_type": "code",
   "execution_count": 4,
   "metadata": {},
   "outputs": [
    {
     "name": "stdout",
     "output_type": "stream",
     "text": [
      "DummyLayer(\n",
      "weight=\n",
      "[[-1.4581939 -2.047044 ]\n",
      " [-1.4242861  1.1684095]\n",
      " [-0.9758364 -1.2718494]],\n",
      "bias=[ 1.1378784  -1.2209548  -0.59153634]\n",
      ")\n"
     ]
    }
   ],
   "source": [
    "class DummyLayer(AbstractLayer):\n",
    "    def __init__(self, weight, bias):\n",
    "        self.weight = weight\n",
    "        self.bias = bias\n",
    "\n",
    "    def __repr__(self):\n",
    "        return f\"DummyLayer(\\nweight=\\n{self.weight},\\nbias={self.bias}\\n)\"\n",
    "\n",
    "    def __call__(self, x):\n",
    "        return self.weight @ x + self.bias\n",
    "    \n",
    "key = jax.random.PRNGKey(0)\n",
    "key, subkey = jax.random.split(key)\n",
    "w = jax.random.normal(subkey, (3, 2))\n",
    "b = jax.random.normal(subkey, (3,))\n",
    "layer = DummyLayer(w, b) # works fine\n",
    "print(layer)"
   ]
  },
  {
   "cell_type": "markdown",
   "metadata": {},
   "source": [
    "We can recover the \"genealogy\" of a class with the __bases__ and __name__ attributes. <font color='red'>WARNING: It doesn't provide all the information. Example: ```Linear(eqx.Module)``` doesn't show the ```ABC``` class. </font>"
   ]
  },
  {
   "cell_type": "code",
   "execution_count": 7,
   "metadata": {},
   "outputs": [
    {
     "name": "stdout",
     "output_type": "stream",
     "text": [
      "<class '__main__.DummyLayer'>\n",
      "(<class '__main__.AbstractLayer'>,)\n",
      "AbstractLayer\n",
      "(<class 'abc.ABC'>,)\n"
     ]
    }
   ],
   "source": [
    "print(type(layer))\n",
    "print(type(layer).__bases__)\n",
    "print(type(layer).__bases__[0].__name__)\n",
    "print(type(layer).__bases__[0].__bases__)"
   ]
  },
  {
   "cell_type": "code",
   "execution_count": null,
   "metadata": {},
   "outputs": [],
   "source": [
    "import equinox as eqx\n",
    "class Linear(eqx.Module):\n",
    "    weight: jnp.ndarray\n",
    "    bias: jnp.ndarray\n",
    "\n",
    "    def __call__(self, x):\n",
    "        return self.weight @ x + self.bias\n",
    "    \n",
    "\n",
    "print(type(model))\n",
    "print(type(model).__bases__)\n",
    "print(type(model).__bases__[0].__bases__)"
   ]
  },
  {
   "cell_type": "markdown",
   "metadata": {},
   "source": [
    "# 2. @dataclass decorator to simplify the class definition (```__init__``` and ```__repr__``` are implicitly defined)\n",
    "Also it adds three methods"
   ]
  },
  {
   "cell_type": "code",
   "execution_count": null,
   "metadata": {},
   "outputs": [
    {
     "name": "stdout",
     "output_type": "stream",
     "text": [
      "The class representation doesn't change with @dataclass\n",
      "Point=<class '__main__.Point'>\n",
      "PointDataclass=<class '__main__.PointDataclass'>\n",
      "\n",
      "However, the instance representation changes with @dataclass\n",
      "p1=<__main__.Point object at 0x11f558e30>\n",
      "p2=PointDataclass()\n",
      "\n",
      "@dataclass adds attributes/methods:\n",
      "dir(Point)=['__class__', '__delattr__', '__dict__', '__dir__', '__doc__', '__eq__', '__format__', '__ge__', '__getattribute__', '__getstate__', '__gt__', '__hash__', '__init__', '__init_subclass__', '__le__', '__lt__', '__module__', '__ne__', '__new__', '__reduce__', '__reduce_ex__', '__repr__', '__setattr__', '__sizeof__', '__str__', '__subclasshook__', '__weakref__']\n",
      "dir(PointDataclass)=['__class__', '__dataclass_fields__', '__dataclass_params__', '__delattr__', '__dict__', '__dir__', '__doc__', '__eq__', '__format__', '__ge__', '__getattribute__', '__getstate__', '__gt__', '__hash__', '__init__', '__init_subclass__', '__le__', '__lt__', '__match_args__', '__module__', '__ne__', '__new__', '__reduce__', '__reduce_ex__', '__repr__', '__setattr__', '__sizeof__', '__str__', '__subclasshook__', '__weakref__']\n",
      "More precisely, @dataclass adds the following attributes/methods: {'__match_args__', '__dataclass_fields__', '__dataclass_params__'}\n"
     ]
    }
   ],
   "source": [
    "from dataclasses import dataclass\n",
    "\n",
    "class Point:\n",
    "    def __init__(self, x, y):\n",
    "        self.x = x\n",
    "        self.y = y\n",
    "\n",
    "@dataclass\n",
    "class PointDataclass:\n",
    "    def __init__(self, x, y):\n",
    "        self.x = x\n",
    "        self.y = y\n",
    "\n",
    "p1 = Point(1, 2)\n",
    "p2 = PointDataclass(1, 2)\n",
    "\n",
    "print(f'The class representation doesn\\'t change with @dataclass')\n",
    "print(f'{Point=}')\n",
    "print(f'{PointDataclass=}')\n",
    "\n",
    "print(f'\\nHowever, the instance representation changes with @dataclass')\n",
    "print(f'{p1=}')\n",
    "print(f'{p2=}')\n",
    "\n",
    "print(f'\\n@dataclass adds attributes/methods:')\n",
    "print(f'{dir(Point)=}')\n",
    "print(f'{dir(PointDataclass)=}')\n",
    "set_a = set(dir(Point))\n",
    "set_b = set(dir(PointDataclass))\n",
    "print(f'More precisely, @dataclass adds the following attributes/methods: {set_b - set_a}')"
   ]
  },
  {
   "cell_type": "code",
   "execution_count": null,
   "metadata": {},
   "outputs": [],
   "source": [
    "@dataclass\n",
    "class EnhancedDummyLayer(AbstractLayer):\n",
    "    weight: jax.Array\n",
    "    bias: jax.Array\n",
    "\n",
    "    def __call__(self, x):\n",
    "        return self.weight @ x + self.bias"
   ]
  },
  {
   "cell_type": "code",
   "execution_count": null,
   "metadata": {},
   "outputs": [],
   "source": []
  }
 ],
 "metadata": {
  "kernelspec": {
   "display_name": ".venv",
   "language": "python",
   "name": "python3"
  },
  "language_info": {
   "codemirror_mode": {
    "name": "ipython",
    "version": 3
   },
   "file_extension": ".py",
   "mimetype": "text/x-python",
   "name": "python",
   "nbconvert_exporter": "python",
   "pygments_lexer": "ipython3",
   "version": "3.12.4"
  }
 },
 "nbformat": 4,
 "nbformat_minor": 2
}
